{
 "cells": [
  {
   "cell_type": "markdown",
   "metadata": {},
   "source": [
    "![imagen](./img/ejercicios.png)"
   ]
  },
  {
   "cell_type": "markdown",
   "metadata": {},
   "source": [
    "# Ejercicios funciones\n",
    "## Ejercicio 1\n",
    "Escribe una función que convierta números del 1 al 7 en nombres de los dias de la semana. La función constará de un único argumento numérico y una salida de tipo string"
   ]
  },
  {
   "cell_type": "code",
   "execution_count": 14,
   "metadata": {},
   "outputs": [],
   "source": [
    "# AQUÍ VA VUESTRO CÓDIGO\n",
    "\n",
    "# Función que recibe un número entero y devuelve el día de la semana correspondiente\n",
    "def dia_semana(n_dia):\n",
    "    nombre_dia = [\"Lunes\", \"Martes\", \"Miercoles\", \"Jueves\", \"Viernes\", \"Sabado\", \"Domingo\"]\n",
    "    if n_dia >= 1 and n_dia <= 7: \n",
    "        return nombre_dia[n_dia-1] \n",
    "    else:\n",
    "        return \"Día incorrecto\"\n",
    "\n"
   ]
  },
  {
   "cell_type": "code",
   "execution_count": 18,
   "metadata": {},
   "outputs": [
    {
     "name": "stdout",
     "output_type": "stream",
     "text": [
      "Lunes\n",
      "Viernes\n",
      "Día incorrecto\n",
      "Día incorrecto\n"
     ]
    }
   ],
   "source": [
    "print(dia_semana(1))\n",
    "print(dia_semana(5))\n",
    "print(dia_semana(8))\n",
    "print(dia_semana(-1))"
   ]
  },
  {
   "cell_type": "code",
   "execution_count": 21,
   "metadata": {},
   "outputs": [],
   "source": [
    "# Función que recibe un número entero y devuelve el día de la semana correspondiente,\n",
    "# Usando la estructura match\n",
    "def dia_semana_match(dia): \n",
    "    match dia:\n",
    "        case 1:\n",
    "            return \"Lunes\"\n",
    "        case 2:\n",
    "            return \"Martes\"\n",
    "        case 3:\n",
    "            return \"Miercoles\"\n",
    "        case 4:\n",
    "            return \"Jueves\"\n",
    "        case 5:\n",
    "            return \"Viernes\"\n",
    "        case 6:\n",
    "            return \"Sabado\"\n",
    "        case 7:\n",
    "            return \"Domingo\" \n",
    "        case _:\n",
    "            return \"Día incorrecto\"\n"
   ]
  },
  {
   "cell_type": "code",
   "execution_count": 24,
   "metadata": {},
   "outputs": [
    {
     "name": "stdout",
     "output_type": "stream",
     "text": [
      "Lunes\n",
      "Miercoles\n",
      "Día incorrecto\n"
     ]
    }
   ],
   "source": [
    "print(dia_semana_match(1))    \n",
    "print(dia_semana_match(3)) \n",
    "print(dia_semana_match(8))      "
   ]
  },
  {
   "cell_type": "markdown",
   "metadata": {},
   "source": [
    "## Ejercicio 2\n",
    "En el ejercicio 8 de flujos de control, creábamos una pirámide invertida de números desde el 5. Crea una función que replique el comportamiento de la pirámide, y utiliza un único parámetro de entrada de la función para determinar el número de filas de la pirámide."
   ]
  },
  {
   "cell_type": "code",
   "execution_count": 45,
   "metadata": {},
   "outputs": [],
   "source": [
    "# AQUÍ VA VUESTRO CÓDIGO\n",
    "def piramide_invertida(numero_filas):\n",
    "    \"\"\" Esta función construye una piramide invertida de números, \n",
    "    de acuerdo al numero de filas dado\"\"\"    \n",
    "    print(f\"Piramide invertida de {numero_filas} filas:\")\n",
    "    for i in range(numero_filas,0,-1):\n",
    "        for j in range(i,0,-1):\n",
    "            print(j, end=\" \")\n",
    "        print()              "
   ]
  },
  {
   "cell_type": "code",
   "execution_count": 46,
   "metadata": {},
   "outputs": [
    {
     "name": "stdout",
     "output_type": "stream",
     "text": [
      "Piramide invertida de 5 filas:\n",
      "5 4 3 2 1 \n",
      "4 3 2 1 \n",
      "3 2 1 \n",
      "2 1 \n",
      "1 \n",
      "Piramide invertida de 8 filas:\n",
      "8 7 6 5 4 3 2 1 \n",
      "7 6 5 4 3 2 1 \n",
      "6 5 4 3 2 1 \n",
      "5 4 3 2 1 \n",
      "4 3 2 1 \n",
      "3 2 1 \n",
      "2 1 \n",
      "1 \n"
     ]
    }
   ],
   "source": [
    "piramide_invertida(5)\n",
    "\n",
    "piramide_invertida(8)"
   ]
  },
  {
   "cell_type": "markdown",
   "metadata": {},
   "source": [
    "## Ejercicio 3\n",
    "Escribe una función que compare dos números. La función tiene dos argumentos y hay tres salidas posibles: que sean iguales, que el primero sea  mayor que el segundo, o que el segundo sea mayor que el primero"
   ]
  },
  {
   "cell_type": "code",
   "execution_count": 47,
   "metadata": {},
   "outputs": [],
   "source": [
    "def comparar(x,y):\n",
    "    if x==y:\n",
    "        respuesta = \"Los números son iguales\"\n",
    "    elif x > y:\n",
    "        respuesta = f\"El número {x} es mayor que el número {y}\"\n",
    "    else:\n",
    "        respuesta = f\"El número {x} es menor que el número {y}\"\n",
    "    return respuesta    "
   ]
  },
  {
   "cell_type": "code",
   "execution_count": 51,
   "metadata": {},
   "outputs": [
    {
     "name": "stdout",
     "output_type": "stream",
     "text": [
      "El número 3 es menor que el número 4\n",
      "Los números son iguales\n"
     ]
    }
   ],
   "source": [
    "# AQUÍ VA VUESTRO CÓDIGO\n",
    "print(comparar(3,4))\n",
    "\n",
    "print(comparar(2,2))"
   ]
  },
  {
   "attachments": {},
   "cell_type": "markdown",
   "metadata": {},
   "source": [
    "## Ejercicio 4\n",
    "Escribe una función que sea un contador de letras. En el primer argumento tienes que introducir un texto, y el segundo que sea una letra que contar. La función tiene que devolver un entero con el número de veces que aparece esa letra, tanto mayúscula, como minúscula"
   ]
  },
  {
   "cell_type": "code",
   "execution_count": 75,
   "metadata": {},
   "outputs": [],
   "source": [
    "# AQUÍ VA VUESTRO CÓDIGO\n",
    "def contador_letras(texto,letra):\n",
    "    #contador = texto.lower().count(letra.lower())\n",
    "    contador =texto.count(letra)\n",
    "    return print(f\"El número de veces que aparece la letra \\\"{letra}\\\" en el texto dado es: {contador}\")"
   ]
  },
  {
   "cell_type": "code",
   "execution_count": 76,
   "metadata": {},
   "outputs": [
    {
     "name": "stdout",
     "output_type": "stream",
     "text": [
      "El número de veces que aparece la letra \"a\" en el texto dado es: 3\n",
      "El número de veces que aparece la letra \"e\" en el texto dado es: 1\n"
     ]
    }
   ],
   "source": [
    "contador_letras(\"En casa de herrero cuchillo de palo\",\"a\")\n",
    "\n",
    "texto = \"En un lugar de la mancha\"\n",
    "letra = \"e\"\n",
    "\n",
    "contador_letras(texto,letra)"
   ]
  },
  {
   "cell_type": "markdown",
   "metadata": {},
   "source": [
    "## Ejercicio 5\n",
    "Escribe una función que tenga un único argumento, un string. La salida de la función tiene que ser un diccionario con el conteo de todas las letras de ese string, siendo la clave la letra y el valor el conteo."
   ]
  },
  {
   "cell_type": "code",
   "execution_count": 8,
   "metadata": {},
   "outputs": [],
   "source": [
    "# AQUÍ VA VUESTRO CÓDIGO\n",
    "def conteo_num_letras(texto):\n",
    "    # Transformando a set, eliminamos las letras repetidas\n",
    "    texto_sin_rep = set(texto)\n",
    "    conteo = {}\n",
    "    # Contamos la cantidad de veces que aparece cada letra\n",
    "    for letra in texto_sin_rep:\n",
    "        if letra != \" \":\n",
    "            conteo[letra] = texto.count(letra)\n",
    "    #Imprimimos los resultados\n",
    "    for key, value in conteo.items():\n",
    "        print(\"Letra = \", key, \"-> cantidad =\", value)"
   ]
  },
  {
   "cell_type": "code",
   "execution_count": 13,
   "metadata": {},
   "outputs": [
    {
     "name": "stdout",
     "output_type": "stream",
     "text": [
      "Letra =  d -> cantidad = 1\n",
      "Letra =  r -> cantidad = 1\n",
      "Letra =  m -> cantidad = 1\n",
      "Letra =  h -> cantidad = 1\n",
      "Letra =  e -> cantidad = 1\n",
      "Letra =  c -> cantidad = 1\n",
      "Letra =  l -> cantidad = 2\n",
      "Letra =  u -> cantidad = 2\n",
      "Letra =  g -> cantidad = 1\n",
      "Letra =  n -> cantidad = 3\n",
      "Letra =  a -> cantidad = 4\n",
      "Letra =  E -> cantidad = 1\n"
     ]
    }
   ],
   "source": [
    "texto = \"En un lugar de la mancha\"\n",
    "conteo_num_letras(texto)\n"
   ]
  },
  {
   "cell_type": "markdown",
   "metadata": {},
   "source": [
    "## Ejercicio 6\n",
    "Escribir una función que añada o elimine elementos en una lista. La función necesita los siguientes argumentos:\n",
    "* lista: la lista donde se añadirán o eliminarán los elementos\n",
    "* comando: \"add\" o \"remove\"\n",
    "* elemento: Por defecto es None.\n",
    "\n",
    "Tendrá como salida la lista"
   ]
  },
  {
   "cell_type": "code",
   "execution_count": 15,
   "metadata": {},
   "outputs": [],
   "source": [
    "# AQUÍ VA VUESTRO CÓDIGO\n",
    "\n",
    "def modificar_lista(lista, comando, elemento=None):\n",
    "    if comando == \"add\" and elemento is not None:\n",
    "        lista.append(elemento)\n",
    "    elif comando == \"remove\" and elemento in lista:\n",
    "        lista.remove(elemento)\n",
    "    return lista"
   ]
  },
  {
   "cell_type": "code",
   "execution_count": 17,
   "metadata": {},
   "outputs": [
    {
     "name": "stdout",
     "output_type": "stream",
     "text": [
      "[1, 2, 3, 4]\n",
      "[1, 3, 4]\n",
      "[1, 3, 4]\n"
     ]
    }
   ],
   "source": [
    "mi_lista = [1, 2, 3]\n",
    "print(modificar_lista(mi_lista, \"add\", 4))     \n",
    "print(modificar_lista(mi_lista, \"remove\", 2))  \n",
    "print(modificar_lista(mi_lista, \"remove\", 5)) "
   ]
  },
  {
   "cell_type": "markdown",
   "metadata": {},
   "source": [
    "## Ejercicio 7\n",
    "Crea una función que reciba un número arbitrario de palabras, y devuelva una frase completa, separando las palabras con espacios."
   ]
  },
  {
   "cell_type": "code",
   "execution_count": 29,
   "metadata": {},
   "outputs": [],
   "source": [
    "# AQUÍ VA VUESTRO CÓDIGO\n",
    "def concatenar(palabras):\n",
    "    return \" \".join(palabras)"
   ]
  },
  {
   "cell_type": "code",
   "execution_count": 31,
   "metadata": {},
   "outputs": [
    {
     "name": "stdout",
     "output_type": "stream",
     "text": [
      "En un lugar de la mancha\n",
      "En un lugar de la mancha\n"
     ]
    }
   ],
   "source": [
    "print(concatenar((\"En\",\"un\",\"lugar\",\"de\",\"la\",\"mancha\")))\n",
    "print(concatenar([\"En\",\"un\",\"lugar\",\"de\",\"la\",\"mancha\"]))\n"
   ]
  },
  {
   "cell_type": "markdown",
   "metadata": {},
   "source": [
    "## Ejercicio 8\n",
    "Escribe un programa que obtenga el enésimo número de la [serie de Fibonacci](https://es.wikipedia.org/wiki/Sucesi%C3%B3n_de_Fibonacci). Tienes que crear una función recursiva con un único argumento.\n",
    "\n",
    "```Python\n",
    "fibonacci(2) = 1\n",
    "fibonacci(4) = 3\n",
    "fibonacci(5) = 5\n",
    "fibonacci(8) = 21\n",
    "```"
   ]
  },
  {
   "cell_type": "markdown",
   "metadata": {},
   "source": [
    "fibonacci(n) = fibonacci(n-1) + fibonacci(n-2)"
   ]
  },
  {
   "cell_type": "code",
   "execution_count": null,
   "metadata": {},
   "outputs": [],
   "source": [
    "# AQUÍ VA VUESTRO CÓDIGO\n",
    "def fibonacci(n):\n",
    "    fibonacci ={\"f0\": 0,\n",
    "            \"f1\": 1}\n",
    "    for j  in range(2,n,1):\n",
    "        fibonacci[f\"f{j}\"] = f[j-1] + f[j-2]\n",
    "    print(\"Sucesón de Fibonacci:\")\n",
    "    for key, value in sucesion.items():\n",
    "        print(f\"{key} = {value}\")\n",
    "    return fibonacci    \n",
    "   "
   ]
  },
  {
   "cell_type": "code",
   "execution_count": 59,
   "metadata": {},
   "outputs": [
    {
     "name": "stdout",
     "output_type": "stream",
     "text": [
      "Sucesón de Fibonacci\n",
      "f0 = 0\n",
      "f1 = 1\n",
      "f2 = 1\n",
      "f3 = 2\n",
      "f4 = 3\n",
      "f5 = 5\n",
      "f6 = 8\n",
      "f7 = 13\n",
      "f8 = 21\n",
      "f9 = 34\n",
      "{'f0': 0, 'f1': 1, 'f2': 1, 'f3': 2, 'f4': 3, 'f5': 5, 'f6': 8, 'f7': 13, 'f8': 21, 'f9': 34}\n"
     ]
    }
   ],
   "source": [
    "sucesion = fibonacci(10)\n",
    "\n",
    "print(sucesion)"
   ]
  },
  {
   "attachments": {},
   "cell_type": "markdown",
   "metadata": {},
   "source": [
    "## Ejercicio 9\n",
    "Define en una única celda las siguientes funciones:\n",
    "* Función que calcule el área de un cuadrado\n",
    "* Función que calcule el área de un triángulo\n",
    "* Función que calcule el área de un círculo\n",
    "\n",
    "En otra celda, calcular el area de:\n",
    "* Dos círculos de radio 10 + un triángulo de base 3 y altura 7\n",
    "* Un cuadrado de lado = 10 + 3 círculos (uno de radio = 4 y los otros dos de radio = 6) + 5 triángulos de base = 2 + altura = 4"
   ]
  },
  {
   "cell_type": "code",
   "execution_count": 68,
   "metadata": {},
   "outputs": [],
   "source": [
    "# AQUÍ VA VUESTRO CÓDIGO\n",
    "def area_cuadrado(longitud_lado):\n",
    "    return longitud_lado**2\n",
    "\n",
    "def area_triangulo(base,altura):\n",
    "    return base*altura/2\n",
    "\n",
    "def area_circulo(radio):\n",
    "    return 3.1416*(radio**2)"
   ]
  },
  {
   "cell_type": "code",
   "execution_count": 71,
   "metadata": {},
   "outputs": [
    {
     "name": "stdout",
     "output_type": "stream",
     "text": [
      "638.82\n",
      "306.46\n"
     ]
    }
   ],
   "source": [
    "area_1 = 2*area_circulo(10) + area_triangulo(3,7)\n",
    "print(round(area_1,2))\n",
    "\n",
    "\n",
    "area_2 = 10 + 2*area_circulo(6) + area_circulo(4) + 5*area_triangulo(2,4)\n",
    "print(round(area_2,2))"
   ]
  },
  {
   "cell_type": "markdown",
   "metadata": {},
   "source": [
    "## Ejercicio 10\n",
    "\n",
    "Guarda las funciones de estos ejercicios en un fichero llamado `funciones.py` e importalas desde este jupyter notebook para probar que puedes hacer uso de ellas."
   ]
  },
  {
   "cell_type": "code",
   "execution_count": 88,
   "metadata": {},
   "outputs": [
    {
     "name": "stdout",
     "output_type": "stream",
     "text": [
      "638.8199999999999\n",
      "306.46\n"
     ]
    }
   ],
   "source": [
    "# AQUÍ VA VUESTRO CÓDIGO\n",
    "import funciones as f\n",
    "\n",
    "area_1 = 2*f.area_circulo(10) + f.area_triangulo(3,7)\n",
    "print(area_1)\n",
    "\n",
    "area_2 = 10 + 2*f.area_circulo(6) + f.area_circulo(4) + 5*f.area_triangulo(2,4)\n",
    "print(round(area_2,2))\n"
   ]
  },
  {
   "cell_type": "code",
   "execution_count": null,
   "metadata": {},
   "outputs": [],
   "source": []
  }
 ],
 "metadata": {
  "kernelspec": {
   "display_name": "Python 3",
   "language": "python",
   "name": "python3"
  },
  "language_info": {
   "codemirror_mode": {
    "name": "ipython",
    "version": 3
   },
   "file_extension": ".py",
   "mimetype": "text/x-python",
   "name": "python",
   "nbconvert_exporter": "python",
   "pygments_lexer": "ipython3",
   "version": "3.13.1"
  }
 },
 "nbformat": 4,
 "nbformat_minor": 4
}
