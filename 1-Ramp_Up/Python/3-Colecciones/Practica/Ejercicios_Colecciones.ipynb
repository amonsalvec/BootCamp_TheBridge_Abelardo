{
 "cells": [
  {
   "cell_type": "markdown",
   "metadata": {},
   "source": [
    "![imagen](./img/ejercicios.png)"
   ]
  },
  {
   "cell_type": "markdown",
   "metadata": {},
   "source": [
    "## Ejercicio 1\n",
    "Dada la siguiente lista:\n",
    "> ```ejer_1 = [1,2,3,4,5]```\n",
    "\n",
    "Inviértela para que quede de la siguiente manera\n",
    "> ```ejer_1 = [5,4,3,2,1]```"
   ]
  },
  {
   "cell_type": "code",
   "execution_count": null,
   "metadata": {},
   "outputs": [
    {
     "name": "stdout",
     "output_type": "stream",
     "text": [
      "[5, 4, 3, 2, 1]\n"
     ]
    }
   ],
   "source": [
    "# AQUÍ VA VUESTRO CÓDIGO\n",
    "ejer_1 = [1,2,3,4,5]\n",
    "\n",
    "# Usamos el método reverse() para invertir la lista\n",
    "ejer_1.reverse()\n",
    "print(ejer_1)"
   ]
  },
  {
   "cell_type": "markdown",
   "metadata": {},
   "source": [
    "## Ejercicio 2\n",
    "Eleva todos los elementos de la lista al cuadrado\n",
    "> ```ejer_2 = [1,2,3,4,5]```"
   ]
  },
  {
   "cell_type": "code",
   "execution_count": null,
   "metadata": {},
   "outputs": [
    {
     "name": "stdout",
     "output_type": "stream",
     "text": [
      "[1, 4, 9, 16, 25]\n"
     ]
    },
    {
     "data": {
      "text/plain": [
       "[1, 4, 9, 16, 25]"
      ]
     },
     "execution_count": 21,
     "metadata": {},
     "output_type": "execute_result"
    }
   ],
   "source": [
    "# AQUÍ VA VUESTRO CÓDIGO\n",
    "ejer_2 = [1,2,3,4,5]\n",
    "\n",
    "# Usamos una \"list comprehension\" para elevar al cuadrado cada elemento de la lista\n",
    "power = [x**2 for x in ejer_2]\n",
    "print(power)\n",
    "\n",
    "# Usando la librería math y la función pow()\n",
    "import math\n",
    "[pow(x,2) for x in ejer_2]\n"
   ]
  },
  {
   "cell_type": "markdown",
   "metadata": {},
   "source": [
    "## Ejercicio 3\n",
    "Crea una lista nueva con todas las combinaciones de las siguientes dos listas:\n",
    "> ```ejer_3_1 = [\"Hola\", \"amigo\"]```\n",
    ">\n",
    "> ```ejer_3_2 = [\"Que\", \"tal\"]```\n",
    "\n",
    "Obten el siguiente output:\n",
    "\n",
    "```['Hola Que', 'Hola tal', 'amigo Que', 'amigo tal']```"
   ]
  },
  {
   "cell_type": "code",
   "execution_count": 18,
   "metadata": {},
   "outputs": [
    {
     "name": "stdout",
     "output_type": "stream",
     "text": [
      "['Hola Que', 'Hola tal', 'amigo Que', 'amigo tal']\n"
     ]
    }
   ],
   "source": [
    "# AQUÍ VA VUESTRO CÓDIGO\n",
    "\n",
    "ejer_3_1 = [\"Hola\", \"amigo\"]\n",
    "ejer_3_2 = [\"Que\", \"tal\"]\n",
    "\n",
    "comb_words = []\n",
    "for word in ejer_3_1:\n",
    "    for a_word in ejer_3_2:\n",
    "        comb_words.append(word + \" \" + a_word)\n",
    "\n",
    "print(comb_words)"
   ]
  },
  {
   "attachments": {},
   "cell_type": "markdown",
   "metadata": {},
   "source": [
    "## Ejercicio 4\n",
    "Dada la siguiente lista, encuentra por el índice el valor 45 y sustitúyelo por el 0\n",
    "> ```ejer_4 = [20, 47, 19, 29, 45, 67, 78, 90]```"
   ]
  },
  {
   "cell_type": "code",
   "execution_count": 20,
   "metadata": {},
   "outputs": [
    {
     "name": "stdout",
     "output_type": "stream",
     "text": [
      "[20, 47, 19, 29, 0, 67, 78, 90]\n"
     ]
    }
   ],
   "source": [
    "# AQUÍ VA VUESTRO CÓDIGO\n",
    "ejer_4 = [20, 47, 19, 29, 45, 67, 78, 90]\n",
    "\n",
    "# Ubicamos el índice del número 45 con el método index()\n",
    "idx_45 = ejer_4.index(45)\n",
    "\n",
    "# Cambiamos el valor del número 45 por 0\n",
    "ejer_4[idx_45] = 0\n",
    "\n",
    "# Imprimimos la lista modificada\n",
    "print(ejer_4)\n"
   ]
  },
  {
   "cell_type": "markdown",
   "metadata": {},
   "source": [
    "## Ejercicio 5\n",
    "Dada la siguiente lista, elimina todos los valores iguales a 3\n",
    "> ```ejer_5 = [3, 20, 3, 47, 19, 3, 29, 45, 67, 78, 90, 3, 3]```\n",
    "\n",
    "TIP: No intentes eliminar elementos sobre la lista que estás iterando. Haz una copia con `ejer_5.copy()`."
   ]
  },
  {
   "cell_type": "code",
   "execution_count": 66,
   "metadata": {},
   "outputs": [
    {
     "name": "stdout",
     "output_type": "stream",
     "text": [
      "[20, 47, 19, 29, 45, 67, 78, 90]\n"
     ]
    }
   ],
   "source": [
    "# AQUÍ VA VUESTRO CÓDIGO\n",
    "ejer_5 = [3, 20, 3, 47, 19, 3, 29, 45, 67, 78, 90, 3, 3]\n",
    "\n",
    "while 3 in ejer_5:\n",
    "    ejer_5.remove(3)\n",
    "\n",
    "print(ejer_5)   "
   ]
  },
  {
   "attachments": {},
   "cell_type": "markdown",
   "metadata": {},
   "source": [
    "## Ejercicio 6\n",
    "1. Crea una tupla con 3 elementos\n",
    "2. Crea otra tupla con un elemento y comprueba su tipo\n",
    "3. Crea una tupla con elementos de diferentes tipos\n",
    "4. Imprime por pantalla el primer y último elemento de la tupla del apartado 3. Usa `len` para el último\n",
    "5. Añade un elemento a la tupla del apartado 3.\n",
    "6. Eliminar un elemento de la tupla del apartado 5, que se encuentre más o menos en la mitad.\n",
    "7. Convierte la tupla del apartado 5 en una lista"
   ]
  },
  {
   "cell_type": "code",
   "execution_count": 79,
   "metadata": {},
   "outputs": [
    {
     "name": "stdout",
     "output_type": "stream",
     "text": [
      "(1,)\n",
      "<class 'tuple'>\n",
      "('a', 2, 5.5, [1, 2], (3, 4), {5, 6, 7}, {'coche': True, 'color': 'red'})\n",
      "El primer elemento de la lista en el ejercicio 3 es : a\n",
      "El último elemento de la lista en el ejercicio 3 es un diccionario con\n",
      "Calve =  coche y valor = True\n",
      "Calve =  color y valor = red\n"
     ]
    }
   ],
   "source": [
    "# AQUÍ VA VUESTRO CÓDIGO\n",
    "\n",
    "# 1. Tupla con 3 elementos\n",
    "tupla_1 = (\"a\",2 ,[1,2])\n",
    "\n",
    "# 2. Tupla con 1 elemento\n",
    "tupla_2 = (1,)\n",
    "print(tupla_2)\n",
    "print(type(tupla_2))\n",
    "\n",
    "# 3. Tupla con elementos de diferentes tipos\n",
    "tupla_3 = (\"a\",2 ,5.5, [1,2], (3,4),{5,6,7}, {\"coche\":True, \"color\": \"red\"})\n",
    "print(tupla_3)\n",
    "# 3. Primer y último elemento de la tupla_1\n",
    "first = tupla_3[0]\n",
    "last = tupla_3[len(tupla_3)-1] \n",
    "\n",
    "print(\"El primer elemento de la lista en el ejercicio 3 es :\", first)\n",
    "\n",
    "if type(last) != dict:\n",
    "    print(\"El último elemento de la lista en el ejercicio 3 es una lista\")\n",
    "else:\n",
    "    print(\"El último elemento de la lista en el ejercicio 3 es un diccionario con\")\n",
    "    for key, value in last.items():\n",
    "        print(\"Calve = \", key, \"y valor =\", value)\n",
    "\n"
   ]
  },
  {
   "attachments": {},
   "cell_type": "markdown",
   "metadata": {},
   "source": [
    "## Ejercicio 7\n",
    "Concatena todos los elementos de la tupla en un único string. Para ello utiliza el metodo `.join()` de los Strings\n",
    "> ```ejer_7 = (\"cien\", \"cañones\", \"por\", \"banda\")```\n",
    "\n",
    "Resultado: `cien cañones por banda`"
   ]
  },
  {
   "cell_type": "code",
   "execution_count": 86,
   "metadata": {},
   "outputs": [
    {
     "name": "stdout",
     "output_type": "stream",
     "text": [
      "cien cañones por banda\n"
     ]
    }
   ],
   "source": [
    "# AQUÍ VA VUESTRO CÓDIGO\n",
    "ejer_7 = (\"cien\", \"cañones\", \"por\", \"banda\")\n",
    "#n = \" \".join(map(str,ejer_7))\n",
    "ejer_7 = \" \".join(ejer_7)\n",
    "print(ejer_7)\n"
   ]
  },
  {
   "cell_type": "markdown",
   "metadata": {},
   "source": [
    "## Ejercicio 8\n",
    "Obten el tercer elemento de la siguiente tupla, y el tercero empezando por la cola\n",
    "> ```ejer_8 = (3, 20, 3, 47, 19, 3, 29, 45, 67, 78, 90, 3, 3)```"
   ]
  },
  {
   "cell_type": "code",
   "execution_count": 104,
   "metadata": {},
   "outputs": [
    {
     "name": "stdout",
     "output_type": "stream",
     "text": [
      "El segundo elemento de la tupla es: 3\n",
      "El tercer elemento desde la cola de la tupla es: 90\n"
     ]
    }
   ],
   "source": [
    "# AQUÍ VA VUESTRO CÓDIGO\n",
    "ejer_8 = (3, 20, 3, 47, 19, 3, 29, 45, 67, 78, 90, 3, 3)\n",
    "\n",
    "print(f\"El segundo elemento de la tupla es: {ejer_8[2]}\")\n",
    "\n",
    "print(f\"El tercer elemento desde la cola de la tupla es: {ejer_8[-3]}\")\n",
    "\n",
    "\n"
   ]
  },
  {
   "attachments": {},
   "cell_type": "markdown",
   "metadata": {},
   "source": [
    "## Ejercicio 9\n",
    "1. ¿Cuántas veces se repite el 3 en la siguiente tupla?\n",
    "2. Crea una tupla nueva con los elementos desde la posición 5 a la 10.\n",
    "3. ¿Cuántos elementos tiene la tupla `ejer_9`?\n",
    "4. Comprueba si el numero 60 está en la tupla\n",
    "> ```ejer_9 = (3, 20, 3, 47, 19, 3, 29, 45, 67, 78, 90, 3, 3, 5, 2, 4, 7, 9, 4, 2, 4, 3, 3, 4, 6, 7)```"
   ]
  },
  {
   "cell_type": "code",
   "execution_count": 1,
   "metadata": {},
   "outputs": [
    {
     "name": "stdout",
     "output_type": "stream",
     "text": [
      "El valor 3 se repite 7 veces en la tupla\n"
     ]
    }
   ],
   "source": [
    "# AQUÍ VA VUESTRO CÓDIGO\n",
    "#1.\n",
    "ejer_9 = (3, 20, 3, 47, 19, 3, 29, 45, 67, 78, 90, 3, 3, 5, 2, 4, 7, 9, 4, 2, 4, 3, 3, 4, 6, 7)\n",
    "print(f\"El valor 3 se repite {ejer_9.count(3)} veces en la tupla\")\n",
    "\n",
    "#2. \n"
   ]
  },
  {
   "attachments": {},
   "cell_type": "markdown",
   "metadata": {},
   "source": [
    "## Ejercicio 10\n",
    "1. Convierte la tupla del ejercicio 9 en una lista\n",
    "2. Convierte la tupla del ejercicio 9 en un set\n",
    "3. Convierte la tupla del ejercicio 9 en un diccionario. Usa también los índices"
   ]
  },
  {
   "cell_type": "code",
   "execution_count": 17,
   "metadata": {},
   "outputs": [
    {
     "name": "stdout",
     "output_type": "stream",
     "text": [
      "[3, 20, 3, 47, 19, 3, 29, 45, 67, 78, 90, 3, 3, 5, 2, 4, 7, 9, 4, 2, 4, 3, 3, 4, 6, 7]\n",
      "{2, 3, 67, 5, 4, 7, 6, 9, 45, 78, 47, 19, 20, 90, 29}\n",
      "{0: 3, 1: 20, 2: 3, 3: 47, 4: 19, 5: 3, 6: 29, 7: 45, 8: 67, 9: 78, 10: 90, 11: 3, 12: 3, 13: 5, 14: 2, 15: 4, 16: 7, 17: 9, 18: 4, 19: 2, 20: 4, 21: 3, 22: 3, 23: 4, 24: 6, 25: 7}\n"
     ]
    }
   ],
   "source": [
    "# AQUÍ VA VUESTRO CÓDIGO\n",
    "ejer_9 = (3, 20, 3, 47, 19, 3, 29, 45, 67, 78, 90, 3, 3, 5, 2, 4, 7, 9, 4, 2, 4, 3, 3, 4, 6, 7)\n",
    "# 1.\n",
    "lista_10 = list(ejer_9)\n",
    "print(lista_10)\n",
    "# 2.\n",
    "set_10 = set(ejer_9)\n",
    "print(set_10)\n",
    "# 3.\n",
    "dict_10 = {index: value for index, value in enumerate(ejer_9)}\n",
    "print(dict_10)\n"
   ]
  },
  {
   "cell_type": "markdown",
   "metadata": {},
   "source": [
    "## Ejercicio 11\n",
    "Convierte la siguiente lista en un diccionario\n",
    "> ```ejer_11 = [(\"x\", 1), (\"x\", 2), (\"x\", 3), (\"y\", 1), (\"y\", 2), (\"z\", 1)]```\n",
    "\n",
    "TIP: Puedes usar dos variables de control en un bucle `for`. Una por cada valor de las tuplas."
   ]
  },
  {
   "cell_type": "code",
   "execution_count": 67,
   "metadata": {},
   "outputs": [
    {
     "name": "stdout",
     "output_type": "stream",
     "text": [
      "{0: ('x', 1), 1: ('x', 2), 2: ('x', 3), 3: ('y', 1), 4: ('y', 2), 5: ('z', 1)}\n",
      "{'x': [1, 2, 3], 'y': [1, 2], 'z': [1]}\n"
     ]
    }
   ],
   "source": [
    "# AQUÍ VA VUESTRO CÓDIGO\n",
    "ejer_11 = [(\"x\", 1), (\"x\", 2), (\"x\", 3), (\"y\", 1), (\"y\", 2), (\"z\", 1)]\n",
    "\n",
    "dict_11 = {index: value for index, value in enumerate(ejer_11)}\n",
    "print(dict_11)\n",
    "\n",
    "# Otra diccionario con los mismos valores\n",
    "\n",
    "# 1. Inicializamos el diccionario con etiquetas \"x\", \"y\" y \"z\"\n",
    "dict_11 ={key: [] for key, value in ejer_11}\n",
    "\n",
    "# 2. Iteramos sobre la lista de tuplas y añadimos los valores a la lista correspondiente\n",
    "for index in range(len(ejer_11)):\n",
    "    valor0 = ejer_11[index][0]\n",
    "    valor1 = ejer_11[index][1]\n",
    "    if valor0 == \"x\":\n",
    "        dict_11[valor0].append(valor1)\n",
    "    elif valor0 == \"y\":\n",
    "        dict_11[valor0].append(valor1)\n",
    "    else:\n",
    "        dict_11[valor0].append(valor1)\n",
    "        \n",
    "# 3. Imprimimos el diccionario        \n",
    "print(dict_11)   "
   ]
  },
  {
   "attachments": {},
   "cell_type": "markdown",
   "metadata": {},
   "source": [
    "## Ejercicio 12\n",
    "1. Crea una lista ordenada ascendente con las claves del diccionario\n",
    "2. Crea otra lista ordenada descendente con los valores\n",
    "3. Añade una nueva clave/valor\n",
    "4. Busca la clave igual a 2 dentro del diccionario\n",
    "5. Itera la clave y el valor del diccionario con un único for\n",
    "> ```ejer_12 = {4:78, 2:98, 8:234, 5:29}```"
   ]
  },
  {
   "cell_type": "code",
   "execution_count": null,
   "metadata": {},
   "outputs": [
    {
     "name": "stdout",
     "output_type": "stream",
     "text": [
      "Lista ordenada usando el método .sort() : [2, 4, 5, 8]\n",
      "Lista ordenada usando la función sorted() : [2, 4, 5, 8]\n"
     ]
    }
   ],
   "source": [
    "# AQUÍ VA VUESTRO CÓDIGO\n",
    "ejer_12 = {4:78, 2:98, 8:234, 5:29}\n",
    "\n",
    "# 1. Iteramos sobre las claves del diccionario y creamos la lista de claves\n",
    "key_list = [key for key in ejer_12.keys()]\n",
    "key_list.sort()\n",
    "print(f\"Lista de claves ordenada usando el método .sort() : {key_list}\")\n",
    "\n",
    "# opcional..!! . Usando la función sorted()\n",
    "key_list = sorted([key for key in ejer_12.keys()])\n",
    "print(f\"Lista claves ordenada usando la función sorted() : {key_list}\")\n",
    "#-----"
   ]
  },
  {
   "cell_type": "code",
   "execution_count": 88,
   "metadata": {},
   "outputs": [
    {
     "name": "stdout",
     "output_type": "stream",
     "text": [
      "Lista valores ordenada usando la función sorted() : [234, 98, 78, 29]\n"
     ]
    }
   ],
   "source": [
    "ejer_12 = {4:78, 2:98, 8:234, 5:29}\n",
    "\n",
    "# 2. Iteramos sobre los valores del diccionario y creamos la lista de valores\n",
    "value_list = [value for value in ejer_12.values()]\n",
    "value_list.sort(reverse=True)\n",
    "print(f\"Lista valores ordenada usando la función sorted() : {value_list}\")"
   ]
  },
  {
   "cell_type": "code",
   "execution_count": null,
   "metadata": {},
   "outputs": [
    {
     "name": "stdout",
     "output_type": "stream",
     "text": [
      "{4: 78, 2: 98, 8: 234, 5: 29, 9: 340}\n"
     ]
    }
   ],
   "source": [
    "# 3. Agregamos un nuevo elemento al diccionario \n",
    "ejer_12[9] = 340\n",
    "\n",
    "print(ejer_12)"
   ]
  },
  {
   "cell_type": "code",
   "execution_count": 96,
   "metadata": {},
   "outputs": [
    {
     "name": "stdout",
     "output_type": "stream",
     "text": [
      "98\n",
      "98\n",
      "2 es una de las claves en el diccionario ejer_12\n"
     ]
    }
   ],
   "source": [
    "ejer_12 ={4: 78, 2: 98, 8: 234, 5: 29, 9: 340}\n",
    "\n",
    "# forma 1\n",
    "try:\n",
    "    print(ejer_12[2])\n",
    "except:\n",
    "    print(\"2 no es una clave del ejer_12\")\n",
    "\n",
    "# forma 2\n",
    "try:\n",
    "    print(ejer_12.get(2))\n",
    "except:\n",
    "    print(\"2 no es una clave en el diccionario ejer_12\")\n",
    "\n",
    "# forma 3\n",
    "if 2 in ejer_12:\n",
    "  print(\"2 es una de las claves en el diccionario ejer_12\")\n",
    "else:\n",
    "  print(\"2 no es una clave en el diccionario ejer_12\")\n"
   ]
  },
  {
   "cell_type": "code",
   "execution_count": 107,
   "metadata": {},
   "outputs": [
    {
     "name": "stdout",
     "output_type": "stream",
     "text": [
      "Clave: 4, Valor: 78\n",
      "Clave: 2, Valor: 98\n",
      "Clave: 8, Valor: 234\n",
      "Clave: 5, Valor: 29\n",
      "Clave: 9, Valor: 340\n"
     ]
    }
   ],
   "source": [
    "# Usando bucle for\n",
    "for key, value in ejer_12.items():\n",
    "    print(f\"Clave: {key}, Valor: {value}\")\n"
   ]
  },
  {
   "cell_type": "code",
   "execution_count": 108,
   "metadata": {},
   "outputs": [
    {
     "name": "stdout",
     "output_type": "stream",
     "text": [
      "Clave: 4, Valor: 78\n",
      "Clave: 2, Valor: 98\n",
      "Clave: 8, Valor: 234\n",
      "Clave: 5, Valor: 29\n",
      "Clave: 9, Valor: 340\n"
     ]
    },
    {
     "data": {
      "text/plain": [
       "[None, None, None, None, None]"
      ]
     },
     "execution_count": 108,
     "metadata": {},
     "output_type": "execute_result"
    }
   ],
   "source": [
    "# forma 2: (List comprehension)\\n\")\n",
    "\n",
    "[print(f\"Clave: {key}, Valor: {value}\") for key, value in ejer_12.items()]    "
   ]
  },
  {
   "cell_type": "markdown",
   "metadata": {},
   "source": [
    "## Ejercicio 13\n",
    "Junta ambos diccionarios. Para ello, utiliza `update`\n",
    "> ```ejer_13_1 = {1: 11, 2: 22}```\n",
    ">\n",
    "> ```ejer_13_2 = {3: 33, 4: 44}```"
   ]
  },
  {
   "cell_type": "code",
   "execution_count": 116,
   "metadata": {},
   "outputs": [
    {
     "name": "stdout",
     "output_type": "stream",
     "text": [
      "key: 1, value: 11\n",
      "key: 2, value: 22\n",
      "key: 3, value: 33\n",
      "key: 4, value: 44\n"
     ]
    }
   ],
   "source": [
    "# AQUÍ VA VUESTRO CÓDIGO\n",
    "ejer_13_1 = {1: 11, 2: 22}\n",
    "ejer_13_2 = {3: 33, 4: 44}\n",
    "\n",
    "# 1. Usamos el método update() para combinar los dos diccionarios\n",
    "ejer_13_1.update(ejer_13_2)\n",
    "#print(ejer_13_1)\n",
    "\n",
    "for key, value in ejer_13_1.items():\n",
    "   print(f\"key: {key}, value: {value}\")"
   ]
  },
  {
   "cell_type": "markdown",
   "metadata": {},
   "source": [
    "## Ejercicio 14\n",
    "Suma todos los valores del dicionario\n",
    "> ```ejer_14 = {1: 11, 2: 22, 3: 33, 4: 44, 5: 55}```"
   ]
  },
  {
   "cell_type": "code",
   "execution_count": 119,
   "metadata": {},
   "outputs": [
    {
     "name": "stdout",
     "output_type": "stream",
     "text": [
      "La suma de los valores del diccionario es:  165\n"
     ]
    }
   ],
   "source": [
    "# AQUÍ VA VUESTRO CÓDIGO\n",
    "ejer_14 = {1: 11, 2: 22, 3: 33, 4: 44, 5: 55}\n",
    "values = ejer_14.values()\n",
    "suma = sum(values)\n",
    "print(\"La suma de los valores del diccionario es: \", suma)\n"
   ]
  },
  {
   "cell_type": "markdown",
   "metadata": {},
   "source": [
    "## Ejercicio 15\n",
    "Multiplica todos los valores del diccionario\n",
    "> ```ejer_15 = {1: 11, 2: 22, 3: 33, 4: 44, 5: 55}```"
   ]
  },
  {
   "cell_type": "code",
   "execution_count": 123,
   "metadata": {},
   "outputs": [
    {
     "name": "stdout",
     "output_type": "stream",
     "text": [
      "El producto de los valores del diccionario es:  19326120\n"
     ]
    }
   ],
   "source": [
    "# AQUÍ VA VUESTRO CÓDIGO\n",
    "\n",
    "ejer_15 = {1: 11, 2: 22, 3: 33, 4: 44, 5: 55}\n",
    "values = ejer_15.values()\n",
    "product = 1\n",
    "for value in values:\n",
    "    product = product*value\n",
    "\n",
    "print(\"El producto de los valores del diccionario es: \", product)\n"
   ]
  },
  {
   "cell_type": "markdown",
   "metadata": {},
   "source": [
    "## Ejercicio 16\n",
    "1. Crea un set de tres elementos\n",
    "2. Añade un cuarto\n",
    "3. Elimina el último elemento añadido\n",
    "4. Elimina el elemento 10, si está presente. Usa `discard()`"
   ]
  },
  {
   "cell_type": "code",
   "execution_count": 143,
   "metadata": {},
   "outputs": [
    {
     "name": "stdout",
     "output_type": "stream",
     "text": [
      "{'C', 'A', 'B'}\n"
     ]
    }
   ],
   "source": [
    "# AQUÍ VA VUESTRO CÓDIGO\n",
    "ejer_16 = {\"A\",\"B\",\"C\"}\n",
    "print(ejer_16)"
   ]
  },
  {
   "cell_type": "code",
   "execution_count": 144,
   "metadata": {},
   "outputs": [
    {
     "name": "stdout",
     "output_type": "stream",
     "text": [
      "{'C', 'A', 'B', 'D'}\n"
     ]
    }
   ],
   "source": [
    "ejer_16.add(\"D\")\n",
    "print(ejer_16)  \n"
   ]
  },
  {
   "cell_type": "code",
   "execution_count": 147,
   "metadata": {},
   "outputs": [
    {
     "name": "stdout",
     "output_type": "stream",
     "text": [
      "{'C', 'A', 'B'}\n"
     ]
    }
   ],
   "source": [
    "ejer_16.remove(\"D\")\n",
    "print(ejer_16)"
   ]
  },
  {
   "cell_type": "code",
   "execution_count": 149,
   "metadata": {},
   "outputs": [
    {
     "name": "stdout",
     "output_type": "stream",
     "text": [
      "{'C', 'A', 'B'}\n"
     ]
    }
   ],
   "source": [
    "ejer_16.discard(\"F\")\n",
    "print(ejer_16)"
   ]
  }
 ],
 "metadata": {
  "kernelspec": {
   "display_name": "Python 3",
   "language": "python",
   "name": "python3"
  },
  "language_info": {
   "codemirror_mode": {
    "name": "ipython",
    "version": 3
   },
   "file_extension": ".py",
   "mimetype": "text/x-python",
   "name": "python",
   "nbconvert_exporter": "python",
   "pygments_lexer": "ipython3",
   "version": "3.12.9"
  }
 },
 "nbformat": 4,
 "nbformat_minor": 4
}
