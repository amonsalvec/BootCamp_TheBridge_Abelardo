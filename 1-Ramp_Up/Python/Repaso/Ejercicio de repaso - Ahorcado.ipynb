{
 "cells": [
  {
   "attachments": {},
   "cell_type": "markdown",
   "metadata": {},
   "source": [
    "## Juego del Ahorcado\n",
    "Desarrolla el juego del ahorcado en python. En cada turno irá mostrando por pantalla ```_ _ _ _ _``` las rayas bajas correspondientes al número de letras que tiene la palabra a adivinar. El usuario deberá insertar una letra y, si esa letra existe, se mostrará o mostrarán las letras acertadas ```S _ S _ _``` en sus posiciones correspondientes. \n",
    "\n",
    "Si falla, se mostrará el número de errores que lleva y, si lleva x errores, entonces se mostrará \"Fin del juego\"."
   ]
  },
  {
   "cell_type": "markdown",
   "metadata": {},
   "source": [
    "1. Inicializa el juego: declara una palabra a adivinar y muestra por pantalla la palabra oculta.\n"
   ]
  },
  {
   "cell_type": "markdown",
   "metadata": {},
   "source": [
    "\n",
    "```python\n",
    "_ _ _ _ _ _ _ _\n",
    "```"
   ]
  },
  {
   "cell_type": "code",
   "execution_count": 15,
   "metadata": {},
   "outputs": [
    {
     "name": "stdout",
     "output_type": "stream",
     "text": [
      "_ _ _ _ _ _ _ _\n",
      "7\n"
     ]
    }
   ],
   "source": [
    "palabara_adivinar = input(\"Introduce la palabra a adivinar: \").lower()\n",
    "palabra_oculta = [\"_\"] * len(palabara_adivinar)\n",
    "print(*palabra_oculta)\n",
    "intentos = len(set(palabara_adivinar))\n",
    "print(intentos)"
   ]
  },
  {
   "cell_type": "markdown",
   "metadata": {},
   "source": [
    "2. Funcionamiento turnos: mediante un bucle genera el sistema de turnos donde el usuario introduce una letra y le va mostrando su progreso y sus vidas."
   ]
  },
  {
   "cell_type": "code",
   "execution_count": 18,
   "metadata": {},
   "outputs": [
    {
     "name": "stdout",
     "output_type": "stream",
     "text": [
      "a b e l a r d o\n",
      "Has ganado\n"
     ]
    }
   ],
   "source": [
    "while intentos > 0:\n",
    "    letra = input(\"Introduce una letra: \")\n",
    "    if letra.lower() in palabara_adivinar.lower():\n",
    "        for i in range(len(palabara_adivinar)):\n",
    "            if palabara_adivinar[i].lower() == letra.lower():\n",
    "                palabra_oculta[i] = palabara_adivinar[i]   \n",
    "        print(*palabra_oculta,flush=True)\n",
    "    else:\n",
    "        intentos = intentos - 1\n",
    "        print(\"Te quedan\", intentos, \"intentos\")\n",
    "        if intentos == 0:\n",
    "            print(\"Has perdido\")\n",
    "            break\n",
    "    if \"_\" not in palabra_oculta:\n",
    "        print(\"Has ganado\")\n",
    "        break"
   ]
  },
  {
   "cell_type": "markdown",
   "metadata": {},
   "source": []
  },
  {
   "cell_type": "code",
   "execution_count": null,
   "metadata": {},
   "outputs": [],
   "source": []
  },
  {
   "cell_type": "markdown",
   "metadata": {},
   "source": [
    "3. Desarrolla la finalización de la partida, tanto si gana como si pierde."
   ]
  },
  {
   "cell_type": "code",
   "execution_count": null,
   "metadata": {},
   "outputs": [],
   "source": []
  }
 ],
 "metadata": {
  "kernelspec": {
   "display_name": "Python 3",
   "language": "python",
   "name": "python3"
  },
  "language_info": {
   "codemirror_mode": {
    "name": "ipython",
    "version": 3
   },
   "file_extension": ".py",
   "mimetype": "text/x-python",
   "name": "python",
   "nbconvert_exporter": "python",
   "pygments_lexer": "ipython3",
   "version": "3.12.9"
  },
  "orig_nbformat": 4
 },
 "nbformat": 4,
 "nbformat_minor": 2
}
