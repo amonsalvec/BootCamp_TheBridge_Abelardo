{
  "cells": [
    {
      "attachments": {},
      "cell_type": "markdown",
      "metadata": {
        "id": "AY6Q1wDJUobm"
      },
      "source": [
        "<h1><center>Examen Ramp Up 2025</center></h1>\n",
        "\n",
        "<h3>Ejercicio 1</h3>\n",
        "\n",
        "Diseñar una función que reciba varios argumentos (Pan = 2, Yogur = 6) o un diccionario con la compra realizada ({\"Pan\": 2,\"Yogur\": 6}) y calcule el importe total de la compra teniendo en cuenta los descuentos (porcentaje en formato unitario) impuesto por el comercio. A continuación, tenéis disponible la información sobre los productos que tiene el comercio, además de sus precios y descuentos (porcentaje en formato unitario) respectivamente. \n",
        "\n",
        "| **Producto** | **Precio** | **Descuento** |\n",
        "|:--------------:|:------------:|:---------------:|\n",
        "|Pan | 1.20 | 0.10 |\n",
        "|Yogur | 0.30 | 0.00 |\n",
        "|Lejia | 2.80 | 0.15 |\n",
        "|Leche | 0.87 | 0.05 |\n",
        "|Huevo | 0.17 | 0.20 |\n",
        "|Harina | 1.03 | 0.05 |\n",
        "|Detergente | 3.15 | 0.10 |\n",
        "|Gel | 4.19 | 0.00 |\n",
        "\n",
        "* Ejemplo:\n",
        "    * Entrada: {‘Pan’: 2,‘Yogur’: 6}.\n",
        "    * Salida: 3,96.\n",
        "\n",
        "Si veis que se os complica, centraros en la lógica pura sin encapsularlo en una función. Podéis crear una clase Tienda también, con un método asociado a una función que contenga la información necesaria, lo que más sencillo os resulte. Centraros sobre todo en emplear las estructuras que vimos en clase y elegid la que más os convenga."
      ]
    },
    {
      "cell_type": "code",
      "execution_count": 54,
      "metadata": {},
      "outputs": [
        {
          "data": {
            "text/plain": [
              "'El total de la compra es: 6.4395'"
            ]
          },
          "execution_count": 54,
          "metadata": {},
          "output_type": "execute_result"
        }
      ],
      "source": [
        "\n",
        "\n",
        "def total_compras(compra):\n",
        "    \"\"\" Esta función recibe como entrada un diccionario con claves el nombre de producto y \n",
        "    valores su cantidad de compra, y da como salida el total de costo de la compra según una tabla de precios\n",
        "    \"\"\"\n",
        "    # Tabla de precios\n",
        "    precios = {\"Pan\" : [1.20,0.10],\n",
        "        \"Yogur\" : [0.30,0.00],\n",
        "        \"Lejia\" : [2.80,0.15],\n",
        "        \"Leche\" : [0.87,0.05],\n",
        "        \"Huevo\" : [0.17,0.20],\n",
        "        \"Harina\": [1.03,0.05],\n",
        "        \"Detergente\" : [3.15,0.10],\n",
        "        \"Gel\" : [4.19, 0.00]}\n",
        "    total = 0\n",
        "    # Recorremos el diccionario de la compra solo por \n",
        "    for producto in compra.keys():\n",
        "        total = total + precios[producto][0]*compra[producto]*(1-precios[producto][1])\n",
        "\n",
        "    return f\"El total de la compra es: {total}\" # Devolvemos el total\n",
        "\n",
        "\n",
        "entrada={\"Pan\": 2,\"Yogur\": 6, \"Leche\" : 3}\n",
        "total_compras(entrada)\n",
        "\n"
      ]
    },
    {
      "attachments": {},
      "cell_type": "markdown",
      "metadata": {
        "id": "LaFJoGKaUobv"
      },
      "source": [
        "<h3>Ejercicio 2</h3>\n",
        "\n",
        "Desarrollar una función que reciba una lista de números enteros positivos y devuelva una lista de diccionarios, en la que cada diccionario indicará el número de cifras pares e impares.\n",
        "\n",
        "* Ejemplo:\n",
        "    * Entrada: [124, 8771].\n",
        "    * Salida: [{\"Pares\" : 2,\"Impares\" : 1}, {\"Pares\" : 1, \"Impares\" : 3}].\n",
        "\n",
        "Empezad con un ejemplo sencillo, dada una cifra obtener los números pares e impares, podéis imprimir por pantalla y a partir de ahí construid una respuesta más compleja (el diccionario en nuestro caso), finalmente encapsulándolo en una función."
      ]
    },
    {
      "cell_type": "code",
      "execution_count": 55,
      "metadata": {},
      "outputs": [
        {
          "data": {
            "text/plain": [
              "[{'Pares': 2, 'Impares': 1}, {'Pares': 1, 'Impares': 3}]"
            ]
          },
          "execution_count": 55,
          "metadata": {},
          "output_type": "execute_result"
        }
      ],
      "source": [
        "def pares_impares(entrada):\n",
        "    \"\"\"Esta función recibe como entrada una lista de números enteros positivos y da como salida un diccionario en el que\n",
        "    se cuentan las cifras pares e impares de cada número de la lista\"\"\"\n",
        "    output = []\n",
        "    # recorro la lista de números\n",
        "    for num in entrada:\n",
        "       # inicializo las variables contadoras\n",
        "        Pares = 0\n",
        "        Impares = 0\n",
        "        num = str(num) # transformo el número a string\n",
        "        # inicializo el diccionario de pares e impares que serán los elementos de la lista final\n",
        "        diccionario_pares_impares = {} \n",
        "        # recorro las cifras del número ahora como string\n",
        "        for elemento in num:\n",
        "            cifra = float(elemento)\n",
        "            if cifra%2 == 0:  # transformo cada cifra a número entero y verifico si es par\n",
        "                Pares = Pares + 1\n",
        "            else:\n",
        "                Impares = Impares + 1\n",
        "        diccionario_pares_impares[\"Pares\"] = Pares # guardo los pares e impares\n",
        "        diccionario_pares_impares[\"Impares\"] = Impares\n",
        "        output.append(diccionario_pares_impares)   # agrego a la lista salida los diccionarios\n",
        "    return output\n",
        "\n",
        "entrada=[124,8771]\n",
        "pares_impares(entrada)"
      ]
    },
    {
      "attachments": {},
      "cell_type": "markdown",
      "metadata": {},
      "source": [
        "<h3>Ejercicio 3</h3>\n",
        "\n",
        "Diseñar una función que reciba argumentos como prendas y sus precios y devuelve un diccionario con el top 3 (las tres prendas más caras). Podéis trabajar con un diccionario como entrada también donde los datos sean el producto como clave y precio como valor.\n",
        "\n",
        "* Ejemplo:\n",
        "    * input: {'camisa': 45.50, 'pantalones':35, 'camiseta': 41.30, 'abrigo':55, 'calcetines': 24}.\n",
        "    * output: {'abrigo':55,'camisa': 45.50, 'camiseta': 41.30}.\n",
        "\n",
        "Podéis obtener los valores del diccionario, ordenarlos del más caro al más barato y mirar que palabras clave en el diccionario original presentan los valores en las primeras tres posiciones."
      ]
    },
    {
      "cell_type": "code",
      "execution_count": 58,
      "metadata": {},
      "outputs": [
        {
          "data": {
            "text/plain": [
              "{'abrigo': 55, 'camisa': 45.5, 'camiseta': 41.3}"
            ]
          },
          "execution_count": 58,
          "metadata": {},
          "output_type": "execute_result"
        }
      ],
      "source": [
        "#def dict_prendas_precios(prendas_precios):\n",
        "   \n",
        "diccio={'camisa': 45.50, 'pantalones':35, 'camiseta': 41.30, 'abrigo':55, 'calcetines': 24}\n",
        "\n",
        "def importe_valor_ordenado(prendas_valor):\n",
        "    \"\"\"Esta funcion recibe como entrada un diciconario con claves prenda y valores su coste\n",
        "    se ordenan mediante la función sorted y la función lambda para indicar a la función sorted que \n",
        "    debe ordenar en función solo del valor y no de la clave\"\"\"\n",
        "    output = {} # inicializamos el diccionario de salid\n",
        "    i = 0 # inicializamos el contador i\n",
        "    #ordenamos Todo el diccionario\n",
        "    valores_ordenados = dict(sorted(diccio.items(), key=lambda item: item[1],reverse = True))\n",
        "    # Con este Loop for seleccionamos los tres primeros\n",
        "    for prenda,valor in valores_ordenados.items():\n",
        "        output[prenda] = valor\n",
        "        i = i +1\n",
        "        if i == 3:\n",
        "            break\n",
        "    return output\n",
        "\n",
        "importe_valor_ordenado(diccio)        "
      ]
    },
    {
      "cell_type": "markdown",
      "metadata": {},
      "source": [
        "<h3>Ejercicio 4</h3>\n",
        "\n",
        "Diseñad una función que pida al usuario una dirección y sea capaz de extraer de cuantas palabras está compuesta y cuantos de los campos hacen referencia a números.\n",
        "\n",
        "* Ejemplo:\n",
        "    * input: _Urazurrutia Kalea, 3, Ibaiondo, 48003 Bilbo, Bizkaia_\n",
        "    * output: _La dirección está compuesta por 7 palabras de las cuales 2 son números._\n",
        "\n",
        "Tened cuidado con los signos de puntuación ( , . ) y en caso de tener campos compuestos ( 2A, 2ªDrch ) podéis asumirlos como palabra y no número. Mirad si el objeto str (string) tiene algún método que os pueda ayudar a identificar si una palabra es considerada un número si todos sus caracteres son numéricos."
      ]
    },
    {
      "cell_type": "code",
      "execution_count": 59,
      "metadata": {},
      "outputs": [
        {
          "name": "stdout",
          "output_type": "stream",
          "text": [
            "la dirección está compuesta por 5 palabras de los cuales  2 son números\n"
          ]
        }
      ],
      "source": [
        "direccion = \"Urazurrutia Kalea, 3, Ibaiondo, 48003 Bilbo, Bizkaia\"\n",
        "\n",
        "def palabras_numeros_en_direccion(direccion):\n",
        "   \"\"\"Esta función recibe una cadena de caracteres como dirección de domicilio y la procesa para\n",
        "   devolver el número de palabras y el de números en dicha cadena, teniendo en cuenta que los elementos \n",
        "   de la cadena alfanúmericos son considerados palabras también\"\"\"\n",
        "   direccion=direccion.replace(\",\",\" \") # reemplazo las comas por espacios\n",
        "   direccion=direccion.split(\" \") # separo en una lista de acuerdo a espacios en blanco\n",
        "   numeros = 0 # contador de números\n",
        "   palabras = 0 # contador de palabras\n",
        "   # recorremos cada elemento de la lista y cuento las palabras y numeros\n",
        "   for elemento in direccion:\n",
        "      if elemento.isnumeric():\n",
        "         numeros = numeros + 1\n",
        "      else:\n",
        "         if elemento.isalnum():\n",
        "            palabras = palabras + 1\n",
        "   return print(f\"la dirección está compuesta por {palabras} palabras de los cuales  {numeros} son números\")         \n",
        "\n",
        "palabras_numeros_en_direccion(direccion)\n",
        "\n"
      ]
    }
  ],
  "metadata": {
    "colab": {
      "provenance": []
    },
    "kernelspec": {
      "display_name": "Python 3",
      "language": "python",
      "name": "python3"
    },
    "language_info": {
      "codemirror_mode": {
        "name": "ipython",
        "version": 3
      },
      "file_extension": ".py",
      "mimetype": "text/x-python",
      "name": "python",
      "nbconvert_exporter": "python",
      "pygments_lexer": "ipython3",
      "version": "3.12.9"
    }
  },
  "nbformat": 4,
  "nbformat_minor": 0
}
