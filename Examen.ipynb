{
  "cells": [
    {
      "attachments": {},
      "cell_type": "markdown",
      "metadata": {
        "id": "AY6Q1wDJUobm"
      },
      "source": [
        "<h1><center>Examen Ramp Up 2025</center></h1>\n",
        "\n",
        "<h3>Ejercicio 1</h3>\n",
        "\n",
        "Diseñar una función que reciba varios argumentos (Pan = 2, Yogur = 6) o un diccionario con la compra realizada ({\"Pan\": 2,\"Yogur\": 6}) y calcule el importe total de la compra teniendo en cuenta los descuentos (porcentaje en formato unitario) impuesto por el comercio. A continuación, tenéis disponible la información sobre los productos que tiene el comercio, además de sus precios y descuentos (porcentaje en formato unitario) respectivamente. \n",
        "\n",
        "| **Producto** | **Precio** | **Descuento** |\n",
        "|:--------------:|:------------:|:---------------:|\n",
        "|Pan | 1.20 | 0.10 |\n",
        "|Yogur | 0.30 | 0.00 |\n",
        "|Lejia | 2.80 | 0.15 |\n",
        "|Leche | 0.87 | 0.05 |\n",
        "|Huevo | 0.17 | 0.20 |\n",
        "|Harina | 1.03 | 0.05 |\n",
        "|Detergente | 3.15 | 0.10 |\n",
        "|Gel | 4.19 | 0.00 |\n",
        "\n",
        "* Ejemplo:\n",
        "    * Entrada: {‘Pan’: 2,‘Yogur’: 6}.\n",
        "    * Salida: 3,96.\n",
        "\n",
        "Si veis que se os complica, centraros en la lógica pura sin encapsularlo en una función. Podéis crear una clase Tienda también, con un método asociado a una función que contenga la información necesaria, lo que más sencillo os resulte. Centraros sobre todo en emplear las estructuras que vimos en clase y elegid la que más os convenga."
      ]
    },
    {
      "cell_type": "code",
      "execution_count": 68,
      "metadata": {},
      "outputs": [
        {
          "ename": "TypeError",
          "evalue": "total_compras() takes 0 positional arguments but 1 was given",
          "output_type": "error",
          "traceback": [
            "\u001b[31m---------------------------------------------------------------------------\u001b[39m",
            "\u001b[31mTypeError\u001b[39m                                 Traceback (most recent call last)",
            "\u001b[36mCell\u001b[39m\u001b[36m \u001b[39m\u001b[32mIn[68]\u001b[39m\u001b[32m, line 23\u001b[39m\n\u001b[32m     19\u001b[39m     \u001b[38;5;28;01mreturn\u001b[39;00m \u001b[33mf\u001b[39m\u001b[33m\"\u001b[39m\u001b[33mEl total de la compra es: \u001b[39m\u001b[38;5;132;01m{\u001b[39;00mtotal\u001b[38;5;132;01m}\u001b[39;00m\u001b[33m\"\u001b[39m \u001b[38;5;66;03m# Devolvemos el total\u001b[39;00m\n\u001b[32m     22\u001b[39m entrada={\u001b[33m\"\u001b[39m\u001b[33mPan\u001b[39m\u001b[33m\"\u001b[39m: \u001b[32m2\u001b[39m,\u001b[33m\"\u001b[39m\u001b[33mYogur\u001b[39m\u001b[33m\"\u001b[39m: \u001b[32m6\u001b[39m, \u001b[33m\"\u001b[39m\u001b[33mLeche\u001b[39m\u001b[33m\"\u001b[39m : \u001b[32m3\u001b[39m}\n\u001b[32m---> \u001b[39m\u001b[32m23\u001b[39m \u001b[43mtotal_compras\u001b[49m\u001b[43m(\u001b[49m\u001b[43mentrada\u001b[49m\u001b[43m)\u001b[49m\n\u001b[32m     25\u001b[39m total_compras(Pan = \u001b[32m2\u001b[39m, Yogur = \u001b[32m3\u001b[39m, Leche = \u001b[32m3\u001b[39m)\n",
            "\u001b[31mTypeError\u001b[39m: total_compras() takes 0 positional arguments but 1 was given"
          ]
        }
      ],
      "source": [
        "def total_compras(**compra):\n",
        "    \"\"\" Esta función recibe como entrada un diccionario (compra) con claves el nombre de producto y \n",
        "    valores su cantidad de compra, y da como salida el total de costo de la compra según una tabla de precios\n",
        "    \"\"\"\n",
        "    # Tabla de precios y descuentos\n",
        "    precios = {\"Pan\" : [1.20,0.10],\n",
        "        \"Yogur\" : [0.30,0.00],\n",
        "        \"Lejia\" : [2.80,0.15],\n",
        "        \"Leche\" : [0.87,0.05],\n",
        "        \"Huevo\" : [0.17,0.20],\n",
        "        \"Harina\": [1.03,0.05],\n",
        "        \"Detergente\" : [3.15,0.10],\n",
        "        \"Gel\" : [4.19, 0.00]}\n",
        "    total = 0\n",
        "    # Recorremos el diccionario de la compra solo por producto\n",
        "    for producto in compra:\n",
        "        total = total + precios[producto][0]*compra[producto]*(1-precios[producto][1])\n",
        "\n",
        "    return f\"El total de la compra es: {total}\" # Devolvemos el total\n",
        "\n",
        "\n",
        "entrada={\"Pan\": 2,\"Yogur\": 6, \"Leche\" : 3}\n",
        "total_compras(entrada)\n",
        "\n",
        "total_compras(Pan = 2, Yogur = 3, Leche = 3)"
      ]
    },
    {
      "cell_type": "code",
      "execution_count": 64,
      "metadata": {},
      "outputs": [
        {
          "name": "stdout",
          "output_type": "stream",
          "text": [
            "Importe total (con argumentos): 5.64 €\n",
            "Importe total (con diccionario): 9.46 €\n"
          ]
        }
      ],
      "source": [
        "class Comercio:\n",
        "    def __init__(self):\n",
        "        # Productos con sus precios y descuentos\n",
        "        self.productos = {\n",
        "            \"Pan\": {\"precio\": 1.0, \"descuento\": 0.1},  # 10% de descuento\n",
        "            \"Yogur\": {\"precio\": 0.8, \"descuento\": 0.2},  # 20% de descuento\n",
        "            \"Leche\": {\"precio\": 1.5, \"descuento\": 0.15}  # 15% de descuento\n",
        "        }\n",
        "\n",
        "    def calcular_importe(self, **kwargs):\n",
        "        # Si los productos se pasan como argumentos\n",
        "        return self._calcular(kwargs)\n",
        "\n",
        "    def calcular_importe_desde_diccionario(self, compra_dict):\n",
        "        # Si los productos se pasan en un diccionario\n",
        "        return self._calcular(compra_dict)\n",
        "\n",
        "    def _calcular(self, compra):\n",
        "        total = 0\n",
        "        for producto, cantidad in compra.items():\n",
        "            if producto in self.productos:\n",
        "                precio = self.productos[producto][\"precio\"]\n",
        "                descuento = self.productos[producto][\"descuento\"]\n",
        "                precio_final = precio * (1 - descuento)\n",
        "                total += precio_final * cantidad\n",
        "            else:\n",
        "                print(f\"Producto '{producto}' no encontrado.\")\n",
        "        return total\n",
        "\n",
        "\n",
        "# Ejemplo de uso\n",
        "tienda = Comercio()\n",
        "\n",
        "# Con argumentos\n",
        "importe1 = tienda.calcular_importe(Pan=2, Yogur=6)\n",
        "print(f\"Importe total (con argumentos): {importe1:.2f} €\")\n",
        "\n",
        "# Con diccionario\n",
        "compra = {\"Pan\": 2, \"Yogur\": 6, \"Leche\": 3}\n",
        "importe2 = tienda.calcular_importe_desde_diccionario(compra)\n",
        "print(f\"Importe total (con diccionario): {importe2:.2f} €\")"
      ]
    },
    {
      "attachments": {},
      "cell_type": "markdown",
      "metadata": {
        "id": "LaFJoGKaUobv"
      },
      "source": [
        "<h3>Ejercicio 2</h3>\n",
        "\n",
        "Desarrollar una función que reciba una lista de números enteros positivos y devuelva una lista de diccionarios, en la que cada diccionario indicará el número de cifras pares e impares.\n",
        "\n",
        "* Ejemplo:\n",
        "    * Entrada: [124, 8771].\n",
        "    * Salida: [{\"Pares\" : 2,\"Impares\" : 1}, {\"Pares\" : 1, \"Impares\" : 3}].\n",
        "\n",
        "Empezad con un ejemplo sencillo, dada una cifra obtener los números pares e impares, podéis imprimir por pantalla y a partir de ahí construid una respuesta más compleja (el diccionario en nuestro caso), finalmente encapsulándolo en una función."
      ]
    },
    {
      "cell_type": "code",
      "execution_count": 70,
      "metadata": {},
      "outputs": [
        {
          "data": {
            "text/plain": [
              "[{'Pares': 2, 'Impares': 1}, {'Pares': 1, 'Impares': 3}]"
            ]
          },
          "execution_count": 70,
          "metadata": {},
          "output_type": "execute_result"
        }
      ],
      "source": [
        "def pares_impares(entrada):\n",
        "    \"\"\"Esta función recibe como entrada una lista de números enteros positivos y da como salida un diccionario en el que\n",
        "    se cuentan las cifras pares e impares de cada número de la lista\"\"\"\n",
        "    output = []\n",
        "    # recorro la lista de números\n",
        "    for num in entrada:\n",
        "       # inicializo las variables contadoras\n",
        "        Pares = 0\n",
        "        Impares = 0\n",
        "        num = str(num) # transformo el número a string\n",
        "        # inicializo el diccionario de pares e impares que serán los elementos de la lista final\n",
        "        diccionario_pares_impares = {} \n",
        "        # recorro las cifras del número ahora como string\n",
        "        for elemento in num:\n",
        "            cifra = float(elemento)\n",
        "            if cifra%2 == 0:  # transformo cada cifra a número entero y verifico si es par\n",
        "                Pares = Pares + 1\n",
        "            else:\n",
        "                Impares = Impares + 1\n",
        "        diccionario_pares_impares[\"Pares\"] = Pares # guardo los pares e impares\n",
        "        diccionario_pares_impares[\"Impares\"] = Impares\n",
        "        output.append(diccionario_pares_impares)   # agrego a la lista salida los diccionarios\n",
        "    return output\n",
        "\n",
        "entrada=[124,8771]\n",
        "pares_impares(entrada)"
      ]
    },
    {
      "cell_type": "code",
      "execution_count": null,
      "metadata": {},
      "outputs": [],
      "source": [
        "def pares_impares(entrada):\n",
        "    \"\"\"Esta función recibe como entrada una lista de números enteros positivos y da como salida un diccionario en el que\n",
        "    se cuentan las cifras pares e impares de cada número de la lista\"\"\"\n",
        "    output = []\n",
        "    # recorro la lista de números\n",
        "    for num in entrada:\n",
        "        diccionario_pares_impares = {\"Par\":0, \"Impar\":0} \n",
        "        # recorro las cifras del número ahora como string\n",
        "        for elemento in str(num):\n",
        "            if float(cifra)%2 == 0:  # transformo cada cifra a número entero y verifico si es par\n",
        "               diccionario_pares_impares[\"Par\"] += 1\n",
        "            else:\n",
        "                diccionario_pares_impares[\"Impar\"] += 1\n",
        "        diccionario_pares_impares[\"Pares\"] = Pares # guardo los pares e impares\n",
        "        diccionario_pares_impares[\"Impares\"] = Impares\n",
        "        output.append(diccionario_pares_impares)   # agrego a la lista salida los diccionarios\n",
        "    return output\n",
        "\n",
        "entrada=[124,8771]\n",
        "pares_impares(entrada)"
      ]
    },
    {
      "attachments": {},
      "cell_type": "markdown",
      "metadata": {},
      "source": [
        "<h3>Ejercicio 3</h3>\n",
        "\n",
        "Diseñar una función que reciba argumentos como prendas y sus precios y devuelve un diccionario con el top 3 (las tres prendas más caras). Podéis trabajar con un diccionario como entrada también donde los datos sean el producto como clave y precio como valor.\n",
        "\n",
        "* Ejemplo:\n",
        "    * input: {'camisa': 45.50, 'pantalones':35, 'camiseta': 41.30, 'abrigo':55, 'calcetines': 24}.\n",
        "    * output: {'abrigo':55,'camisa': 45.50, 'camiseta': 41.30}.\n",
        "\n",
        "Podéis obtener los valores del diccionario, ordenarlos del más caro al más barato y mirar que palabras clave en el diccionario original presentan los valores en las primeras tres posiciones."
      ]
    },
    {
      "cell_type": "code",
      "execution_count": 71,
      "metadata": {},
      "outputs": [
        {
          "data": {
            "text/plain": [
              "{'abrigo': 55, 'camisa': 45.5, 'camiseta': 41.3}"
            ]
          },
          "execution_count": 71,
          "metadata": {},
          "output_type": "execute_result"
        }
      ],
      "source": [
        "#def dict_prendas_precios(prendas_precios):\n",
        "   \n",
        "diccio={'camisa': 45.50, 'pantalones':35, 'camiseta': 41.30, 'abrigo':55, 'calcetines': 24}\n",
        "\n",
        "def importe_valor_ordenado(diccio):\n",
        "    \"\"\"Esta funcion recibe como entrada un diciconario con claves prenda y valores su coste\n",
        "    se ordenan mediante la función sorted y la función lambda para indicar a la función sorted que \n",
        "    debe ordenar en función solo del valor y no de la clave\"\"\"\n",
        "    output = {} # inicializamos el diccionario de salid\n",
        "    i = 0 # inicializamos el contador i\n",
        "    #ordenamos Todo el diccionario\n",
        "    valores_ordenados = dict(sorted(diccio.items(), key=lambda item: item[1],reverse = True))\n",
        "    # Con este Loop for seleccionamos los tres primeros\n",
        "    for prenda,valor in valores_ordenados.items():\n",
        "        output[prenda] = valor\n",
        "        i = i +1\n",
        "        if i == 3:\n",
        "            break\n",
        "    return output\n",
        "\n",
        "importe_valor_ordenado(diccio)        "
      ]
    },
    {
      "cell_type": "code",
      "execution_count": null,
      "metadata": {},
      "outputs": [],
      "source": [
        "entrada={'camisa': 45.50, 'pantalones':35, 'camiseta': 41.30, 'abrigo':55, 'calcetines': 24}\n",
        "output = {}\n",
        "top3 = sorted(entrada.values())[-3:]\n",
        "\n",
        "for clave in entrada:\n",
        "    if entrada[clave] in top3:\n",
        "        output[clave] = output[clave]"
      ]
    },
    {
      "cell_type": "markdown",
      "metadata": {},
      "source": [
        "<h3>Ejercicio 4</h3>\n",
        "\n",
        "Diseñad una función que pida al usuario una dirección y sea capaz de extraer de cuantas palabras está compuesta y cuantos de los campos hacen referencia a números.\n",
        "\n",
        "* Ejemplo:\n",
        "    * input: _Urazurrutia Kalea, 3, Ibaiondo, 48003 Bilbo, Bizkaia_\n",
        "    * output: _La dirección está compuesta por 7 palabras de las cuales 2 son números._\n",
        "\n",
        "Tened cuidado con los signos de puntuación ( , . ) y en caso de tener campos compuestos ( 2A, 2ªDrch ) podéis asumirlos como palabra y no número. Mirad si el objeto str (string) tiene algún método que os pueda ayudar a identificar si una palabra es considerada un número si todos sus caracteres son numéricos."
      ]
    },
    {
      "cell_type": "code",
      "execution_count": 75,
      "metadata": {},
      "outputs": [
        {
          "name": "stdout",
          "output_type": "stream",
          "text": [
            "la dirección está compuesta por 5 palabras de los cuales  2 son números\n",
            "la dirección está compuesta por 0 palabras de los cuales  0 son números\n",
            "la dirección está compuesta por 1 palabras de los cuales  0 son números\n"
          ]
        }
      ],
      "source": [
        "direccion = \"Urazurrutia Kalea, 3, Ibaiondo, 48003 Bilbo, Bizkaia\"\n",
        "\n",
        "def palabras_numeros_en_direccion(direccion):\n",
        "   \"\"\"Esta función recibe una cadena de caracteres como dirección de domicilio y la procesa para\n",
        "   devolver el número de palabras y el de números en dicha cadena, teniendo en cuenta que los elementos \n",
        "   de la cadena alfanúmericos son considerados palabras también\"\"\"\n",
        "   direccion=direccion.replace(\",\",\" \") # reemplazo las comas por espacios direccion=direccion.replace(\",\",\"\")\n",
        "   direccion=direccion.split(\" \") # separo en una lista de acuerdo a espacios en blanco direccion=direccion.split()\n",
        "   numeros = 0 # contador de números\n",
        "   palabras = 0 # contador de palabras\n",
        "   # recorremos cada elemento de la lista y cuento las palabras y numeros\n",
        "   for elemento in direccion:\n",
        "      if elemento.isnumeric():\n",
        "         numeros = numeros + 1\n",
        "      else:\n",
        "         if elemento.isalnum():\n",
        "            palabras = palabras + 1\n",
        "   return print(f\"la dirección está compuesta por {palabras} palabras de los cuales  {numeros} son números\")         \n",
        "\n",
        "palabras_numeros_en_direccion(direccion)\n",
        "palabras_numeros_en_direccion(\"\")\n",
        "palabras_numeros_en_direccion(\"Hola\")\n"
      ]
    },
    {
      "cell_type": "code",
      "execution_count": null,
      "metadata": {},
      "outputs": [],
      "source": [
        "def dame_direccion():\n",
        "    count = 0\n",
        "    direccion = input(\"Dime tu dirección\") \n",
        "    lista_palabras = direccion.split(\" \")\n",
        "    for palabra in lista_palabras:\n",
        "        palabra_moificada = palabra.replace(\",\",\"\")\n",
        "        if palabra_moificada.isnumeric():\n",
        "            count = count + 1\n",
        "    print(f\"La direcciín tiene {len(lista_palabras)-count} palabras y {count} numeros\")\n"
      ]
    },
    {
      "cell_type": "markdown",
      "metadata": {},
      "source": []
    }
  ],
  "metadata": {
    "colab": {
      "provenance": []
    },
    "kernelspec": {
      "display_name": "Python 3",
      "language": "python",
      "name": "python3"
    },
    "language_info": {
      "codemirror_mode": {
        "name": "ipython",
        "version": 3
      },
      "file_extension": ".py",
      "mimetype": "text/x-python",
      "name": "python",
      "nbconvert_exporter": "python",
      "pygments_lexer": "ipython3",
      "version": "3.12.9"
    }
  },
  "nbformat": 4,
  "nbformat_minor": 0
}
