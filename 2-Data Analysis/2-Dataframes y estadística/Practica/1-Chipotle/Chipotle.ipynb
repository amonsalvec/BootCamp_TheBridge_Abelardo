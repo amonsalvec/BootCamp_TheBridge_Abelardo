{
 "cells": [
  {
   "attachments": {},
   "cell_type": "markdown",
   "metadata": {},
   "source": [
    "Importamos las librerías Pandas y Numpy"
   ]
  },
  {
   "cell_type": "code",
   "execution_count": 4,
   "metadata": {},
   "outputs": [],
   "source": [
    "import pandas as pd\n",
    "import numpy as np"
   ]
  },
  {
   "attachments": {},
   "cell_type": "markdown",
   "metadata": {},
   "source": [
    "### Step 2. Tomaremos el fichero en [esta URL](https://raw.githubusercontent.com/justmarkham/DAT8/master/data/chipotle.tsv) y lo leeremos como un dataframe.\n",
    "\n",
    "Pista: [read_csv](https://numpy.org/doc/stable/user/absolute_beginners.html#importing-and-exporting-a-csv)"
   ]
  },
  {
   "cell_type": "code",
   "execution_count": 60,
   "metadata": {},
   "outputs": [
    {
     "data": {
      "text/html": [
       "<div>\n",
       "<style scoped>\n",
       "    .dataframe tbody tr th:only-of-type {\n",
       "        vertical-align: middle;\n",
       "    }\n",
       "\n",
       "    .dataframe tbody tr th {\n",
       "        vertical-align: top;\n",
       "    }\n",
       "\n",
       "    .dataframe thead th {\n",
       "        text-align: right;\n",
       "    }\n",
       "</style>\n",
       "<table border=\"1\" class=\"dataframe\">\n",
       "  <thead>\n",
       "    <tr style=\"text-align: right;\">\n",
       "      <th></th>\n",
       "      <th>order_id</th>\n",
       "      <th>quantity</th>\n",
       "      <th>item_name</th>\n",
       "      <th>choice_description</th>\n",
       "      <th>item_price</th>\n",
       "      <th>item_price_float</th>\n",
       "    </tr>\n",
       "  </thead>\n",
       "  <tbody>\n",
       "    <tr>\n",
       "      <th>0</th>\n",
       "      <td>1</td>\n",
       "      <td>1</td>\n",
       "      <td>Chips and Fresh Tomato Salsa</td>\n",
       "      <td>NaN</td>\n",
       "      <td>$2.39</td>\n",
       "      <td>2.39</td>\n",
       "    </tr>\n",
       "    <tr>\n",
       "      <th>1</th>\n",
       "      <td>1</td>\n",
       "      <td>1</td>\n",
       "      <td>Izze</td>\n",
       "      <td>[Clementine]</td>\n",
       "      <td>$3.39</td>\n",
       "      <td>3.39</td>\n",
       "    </tr>\n",
       "    <tr>\n",
       "      <th>2</th>\n",
       "      <td>1</td>\n",
       "      <td>1</td>\n",
       "      <td>Nantucket Nectar</td>\n",
       "      <td>[Apple]</td>\n",
       "      <td>$3.39</td>\n",
       "      <td>3.39</td>\n",
       "    </tr>\n",
       "    <tr>\n",
       "      <th>3</th>\n",
       "      <td>1</td>\n",
       "      <td>1</td>\n",
       "      <td>Chips and Tomatillo-Green Chili Salsa</td>\n",
       "      <td>NaN</td>\n",
       "      <td>$2.39</td>\n",
       "      <td>2.39</td>\n",
       "    </tr>\n",
       "    <tr>\n",
       "      <th>4</th>\n",
       "      <td>2</td>\n",
       "      <td>2</td>\n",
       "      <td>Chicken Bowl</td>\n",
       "      <td>[Tomatillo-Red Chili Salsa (Hot), [Black Beans...</td>\n",
       "      <td>$16.98</td>\n",
       "      <td>16.98</td>\n",
       "    </tr>\n",
       "  </tbody>\n",
       "</table>\n",
       "</div>"
      ],
      "text/plain": [
       "   order_id  quantity                              item_name  \\\n",
       "0         1         1           Chips and Fresh Tomato Salsa   \n",
       "1         1         1                                   Izze   \n",
       "2         1         1                       Nantucket Nectar   \n",
       "3         1         1  Chips and Tomatillo-Green Chili Salsa   \n",
       "4         2         2                           Chicken Bowl   \n",
       "\n",
       "                                  choice_description item_price  \\\n",
       "0                                                NaN     $2.39    \n",
       "1                                       [Clementine]     $3.39    \n",
       "2                                            [Apple]     $3.39    \n",
       "3                                                NaN     $2.39    \n",
       "4  [Tomatillo-Red Chili Salsa (Hot), [Black Beans...    $16.98    \n",
       "\n",
       "   item_price_float  \n",
       "0              2.39  \n",
       "1              3.39  \n",
       "2              3.39  \n",
       "3              2.39  \n",
       "4             16.98  "
      ]
     },
     "execution_count": 60,
     "metadata": {},
     "output_type": "execute_result"
    }
   ],
   "source": [
    "url = \"https://raw.githubusercontent.com/justmarkham/DAT8/master/data/chipotle.tsv\"\n",
    "df_file = pd.read_csv(\"chipotle.csv\",sep = \"\\t\",)#, index_col = \"user_id\")\n",
    "df = pd.read_csv(url, sep='\\t')#, index_col='user_id')\n",
    "\n",
    "df[\"item_price_float\"]=df[\"item_price\"].str.replace(\"$\",\"\").astype(float)\n",
    "df.head()"
   ]
  },
  {
   "attachments": {},
   "cell_type": "markdown",
   "metadata": {},
   "source": [
    "### Step 3. Veamos los tipos de datos. ¿Podríamos obtener el producto de mayor precio?"
   ]
  },
  {
   "cell_type": "code",
   "execution_count": 61,
   "metadata": {},
   "outputs": [
    {
     "name": "stdout",
     "output_type": "stream",
     "text": [
      "<class 'pandas.core.frame.DataFrame'>\n",
      "RangeIndex: 4622 entries, 0 to 4621\n",
      "Data columns (total 6 columns):\n",
      " #   Column              Non-Null Count  Dtype  \n",
      "---  ------              --------------  -----  \n",
      " 0   order_id            4622 non-null   int64  \n",
      " 1   quantity            4622 non-null   int64  \n",
      " 2   item_name           4622 non-null   object \n",
      " 3   choice_description  3376 non-null   object \n",
      " 4   item_price          4622 non-null   object \n",
      " 5   item_price_float    4622 non-null   float64\n",
      "dtypes: float64(1), int64(2), object(3)\n",
      "memory usage: 216.8+ KB\n"
     ]
    }
   ],
   "source": [
    "df.info()\n",
    "\n"
   ]
  },
  {
   "cell_type": "code",
   "execution_count": 62,
   "metadata": {},
   "outputs": [
    {
     "data": {
      "text/html": [
       "<div>\n",
       "<style scoped>\n",
       "    .dataframe tbody tr th:only-of-type {\n",
       "        vertical-align: middle;\n",
       "    }\n",
       "\n",
       "    .dataframe tbody tr th {\n",
       "        vertical-align: top;\n",
       "    }\n",
       "\n",
       "    .dataframe thead th {\n",
       "        text-align: right;\n",
       "    }\n",
       "</style>\n",
       "<table border=\"1\" class=\"dataframe\">\n",
       "  <thead>\n",
       "    <tr style=\"text-align: right;\">\n",
       "      <th></th>\n",
       "      <th>order_id</th>\n",
       "      <th>quantity</th>\n",
       "      <th>item_name</th>\n",
       "      <th>choice_description</th>\n",
       "      <th>item_price</th>\n",
       "      <th>item_price_float</th>\n",
       "    </tr>\n",
       "  </thead>\n",
       "  <tbody>\n",
       "    <tr>\n",
       "      <th>3598</th>\n",
       "      <td>1443</td>\n",
       "      <td>15</td>\n",
       "      <td>Chips and Fresh Tomato Salsa</td>\n",
       "      <td>NaN</td>\n",
       "      <td>$44.25</td>\n",
       "      <td>44.25</td>\n",
       "    </tr>\n",
       "  </tbody>\n",
       "</table>\n",
       "</div>"
      ],
      "text/plain": [
       "      order_id  quantity                     item_name choice_description  \\\n",
       "3598      1443        15  Chips and Fresh Tomato Salsa                NaN   \n",
       "\n",
       "     item_price  item_price_float  \n",
       "3598    $44.25              44.25  "
      ]
     },
     "execution_count": 62,
     "metadata": {},
     "output_type": "execute_result"
    }
   ],
   "source": [
    "valor_maximo = df[\"item_price_float\"].max()\n",
    "condicion = (df[\"item_price_float\"]==valor_maximo)\n",
    "df[condicion]\n",
    "\n"
   ]
  },
  {
   "cell_type": "code",
   "execution_count": 63,
   "metadata": {},
   "outputs": [
    {
     "data": {
      "text/html": [
       "<div>\n",
       "<style scoped>\n",
       "    .dataframe tbody tr th:only-of-type {\n",
       "        vertical-align: middle;\n",
       "    }\n",
       "\n",
       "    .dataframe tbody tr th {\n",
       "        vertical-align: top;\n",
       "    }\n",
       "\n",
       "    .dataframe thead th {\n",
       "        text-align: right;\n",
       "    }\n",
       "</style>\n",
       "<table border=\"1\" class=\"dataframe\">\n",
       "  <thead>\n",
       "    <tr style=\"text-align: right;\">\n",
       "      <th></th>\n",
       "      <th>order_id</th>\n",
       "      <th>quantity</th>\n",
       "      <th>item_name</th>\n",
       "      <th>choice_description</th>\n",
       "      <th>item_price</th>\n",
       "      <th>item_price_float</th>\n",
       "    </tr>\n",
       "  </thead>\n",
       "  <tbody>\n",
       "    <tr>\n",
       "      <th>3598</th>\n",
       "      <td>1443</td>\n",
       "      <td>15</td>\n",
       "      <td>Chips and Fresh Tomato Salsa</td>\n",
       "      <td>NaN</td>\n",
       "      <td>$44.25</td>\n",
       "      <td>44.25</td>\n",
       "    </tr>\n",
       "  </tbody>\n",
       "</table>\n",
       "</div>"
      ],
      "text/plain": [
       "      order_id  quantity                     item_name choice_description  \\\n",
       "3598      1443        15  Chips and Fresh Tomato Salsa                NaN   \n",
       "\n",
       "     item_price  item_price_float  \n",
       "3598    $44.25              44.25  "
      ]
     },
     "execution_count": 63,
     "metadata": {},
     "output_type": "execute_result"
    }
   ],
   "source": [
    "df[df[\"item_price_float\"]==df[\"item_price_float\"].max()]"
   ]
  },
  {
   "attachments": {},
   "cell_type": "markdown",
   "metadata": {},
   "source": [
    "### Step 4. ¿Qué productos cuestan más de $10?"
   ]
  },
  {
   "cell_type": "code",
   "execution_count": 64,
   "metadata": {},
   "outputs": [
    {
     "name": "stdout",
     "output_type": "stream",
     "text": [
      "      order_id  quantity           item_name  \\\n",
      "4            2         2        Chicken Bowl   \n",
      "5            3         1        Chicken Bowl   \n",
      "7            4         1       Steak Burrito   \n",
      "13           7         1        Chicken Bowl   \n",
      "23          12         1     Chicken Burrito   \n",
      "...        ...       ...                 ...   \n",
      "4610      1830         1       Steak Burrito   \n",
      "4611      1830         1      Veggie Burrito   \n",
      "4617      1833         1       Steak Burrito   \n",
      "4618      1833         1       Steak Burrito   \n",
      "4619      1834         1  Chicken Salad Bowl   \n",
      "\n",
      "                                     choice_description item_price  \\\n",
      "4     [Tomatillo-Red Chili Salsa (Hot), [Black Beans...    $16.98    \n",
      "5     [Fresh Tomato Salsa (Mild), [Rice, Cheese, Sou...    $10.98    \n",
      "7     [Tomatillo Red Chili Salsa, [Fajita Vegetables...    $11.75    \n",
      "13    [Fresh Tomato Salsa, [Fajita Vegetables, Rice,...    $11.25    \n",
      "23    [[Tomatillo-Green Chili Salsa (Medium), Tomati...    $10.98    \n",
      "...                                                 ...        ...   \n",
      "4610  [Fresh Tomato Salsa, [Rice, Sour Cream, Cheese...    $11.75    \n",
      "4611  [Tomatillo Green Chili Salsa, [Rice, Fajita Ve...    $11.25    \n",
      "4617  [Fresh Tomato Salsa, [Rice, Black Beans, Sour ...    $11.75    \n",
      "4618  [Fresh Tomato Salsa, [Rice, Sour Cream, Cheese...    $11.75    \n",
      "4619  [Fresh Tomato Salsa, [Fajita Vegetables, Pinto...    $11.25    \n",
      "\n",
      "      item_price_float  \n",
      "4                16.98  \n",
      "5                10.98  \n",
      "7                11.75  \n",
      "13               11.25  \n",
      "23               10.98  \n",
      "...                ...  \n",
      "4610             11.75  \n",
      "4611             11.25  \n",
      "4617             11.75  \n",
      "4618             11.75  \n",
      "4619             11.25  \n",
      "\n",
      "[1130 rows x 6 columns]\n",
      "4       2\n",
      "5       1\n",
      "7       1\n",
      "13      1\n",
      "23      1\n",
      "       ..\n",
      "4610    1\n",
      "4611    1\n",
      "4617    1\n",
      "4618    1\n",
      "4619    1\n",
      "Name: quantity, Length: 1130, dtype: int64\n"
     ]
    }
   ],
   "source": [
    "df_new = df[df[\"item_price_float\"]>10]\n",
    "print(df_new)\n",
    "print(df_new[\"quantity\"])"
   ]
  },
  {
   "attachments": {},
   "cell_type": "markdown",
   "metadata": {},
   "source": [
    "### Step 4.1: ¿Y cuántos pedidos se han hecho con un producto de más de 10$? ¿Es lo mismo?"
   ]
  },
  {
   "cell_type": "code",
   "execution_count": null,
   "metadata": {},
   "outputs": [
    {
     "name": "stdout",
     "output_type": "stream",
     "text": [
      "      order_id  quantity           item_name  \\\n",
      "4            2         2        Chicken Bowl   \n",
      "5            3         1        Chicken Bowl   \n",
      "7            4         1       Steak Burrito   \n",
      "13           7         1        Chicken Bowl   \n",
      "23          12         1     Chicken Burrito   \n",
      "...        ...       ...                 ...   \n",
      "4610      1830         1       Steak Burrito   \n",
      "4611      1830         1      Veggie Burrito   \n",
      "4617      1833         1       Steak Burrito   \n",
      "4618      1833         1       Steak Burrito   \n",
      "4619      1834         1  Chicken Salad Bowl   \n",
      "\n",
      "                                     choice_description item_price  \\\n",
      "4     [Tomatillo-Red Chili Salsa (Hot), [Black Beans...    $16.98    \n",
      "5     [Fresh Tomato Salsa (Mild), [Rice, Cheese, Sou...    $10.98    \n",
      "7     [Tomatillo Red Chili Salsa, [Fajita Vegetables...    $11.75    \n",
      "13    [Fresh Tomato Salsa, [Fajita Vegetables, Rice,...    $11.25    \n",
      "23    [[Tomatillo-Green Chili Salsa (Medium), Tomati...    $10.98    \n",
      "...                                                 ...        ...   \n",
      "4610  [Fresh Tomato Salsa, [Rice, Sour Cream, Cheese...    $11.75    \n",
      "4611  [Tomatillo Green Chili Salsa, [Rice, Fajita Ve...    $11.25    \n",
      "4617  [Fresh Tomato Salsa, [Rice, Black Beans, Sour ...    $11.75    \n",
      "4618  [Fresh Tomato Salsa, [Rice, Sour Cream, Cheese...    $11.75    \n",
      "4619  [Fresh Tomato Salsa, [Fajita Vegetables, Pinto...    $11.25    \n",
      "\n",
      "      item_price_float  \n",
      "4                16.98  \n",
      "5                10.98  \n",
      "7                11.75  \n",
      "13               11.25  \n",
      "23               10.98  \n",
      "...                ...  \n",
      "4610             11.75  \n",
      "4611             11.25  \n",
      "4617             11.75  \n",
      "4618             11.75  \n",
      "4619             11.25  \n",
      "\n",
      "[1130 rows x 6 columns]\n",
      "4       2\n",
      "5       1\n",
      "7       1\n",
      "13      1\n",
      "23      1\n",
      "       ..\n",
      "4610    1\n",
      "4611    1\n",
      "4617    1\n",
      "4618    1\n",
      "4619    1\n",
      "Name: quantity, Length: 1130, dtype: int64\n"
     ]
    }
   ],
   "source": []
  },
  {
   "cell_type": "markdown",
   "metadata": {},
   "source": [
    "### Step 4.2: ¿Y cuántos pedidos se han hecho de más de 10$? ¿Es lo mismo?"
   ]
  },
  {
   "cell_type": "code",
   "execution_count": 46,
   "metadata": {},
   "outputs": [
    {
     "name": "stdout",
     "output_type": "stream",
     "text": [
      "1314\n"
     ]
    }
   ],
   "source": [
    "print(df_new[\"quantity\"].sum())"
   ]
  },
  {
   "cell_type": "markdown",
   "metadata": {},
   "source": [
    "### Step 4.3: ¿Y en cuántos pedidos se ha pagado más de 10$ por un mismo producto? ¿Es lo mismo?"
   ]
  },
  {
   "cell_type": "code",
   "execution_count": null,
   "metadata": {},
   "outputs": [],
   "source": []
  },
  {
   "attachments": {},
   "cell_type": "markdown",
   "metadata": {},
   "source": [
    "### Step 5. ¿Qué precio tiene cada producto en distintos pedidos? ¿Hay productos con varios precios?"
   ]
  },
  {
   "cell_type": "code",
   "execution_count": null,
   "metadata": {},
   "outputs": [],
   "source": []
  },
  {
   "attachments": {},
   "cell_type": "markdown",
   "metadata": {},
   "source": [
    "### Step 6. Ordena el dataframe en base al nombre de producto (item name)"
   ]
  },
  {
   "cell_type": "code",
   "execution_count": null,
   "metadata": {},
   "outputs": [],
   "source": []
  },
  {
   "attachments": {},
   "cell_type": "markdown",
   "metadata": {},
   "source": [
    "### Step 7. ¿Cuantas veces se ha pedido los productos más caros?"
   ]
  },
  {
   "cell_type": "code",
   "execution_count": null,
   "metadata": {},
   "outputs": [],
   "source": []
  },
  {
   "attachments": {},
   "cell_type": "markdown",
   "metadata": {},
   "source": [
    "### Step 8. Veamos para el caso de Veggie Salad Bowl. Extrae esa información."
   ]
  },
  {
   "cell_type": "code",
   "execution_count": null,
   "metadata": {},
   "outputs": [],
   "source": []
  }
 ],
 "metadata": {
  "anaconda-cloud": {},
  "kernelspec": {
   "display_name": "Python 3",
   "language": "python",
   "name": "python3"
  },
  "language_info": {
   "codemirror_mode": {
    "name": "ipython",
    "version": 3
   },
   "file_extension": ".py",
   "mimetype": "text/x-python",
   "name": "python",
   "nbconvert_exporter": "python",
   "pygments_lexer": "ipython3",
   "version": "3.12.9"
  }
 },
 "nbformat": 4,
 "nbformat_minor": 4
}
