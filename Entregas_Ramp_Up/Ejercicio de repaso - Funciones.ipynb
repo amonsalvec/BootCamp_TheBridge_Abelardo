{
 "cells": [
  {
   "attachments": {},
   "cell_type": "markdown",
   "metadata": {},
   "source": [
    "### Ejercicio 1 \n",
    "Desarrolla una función que reciba dos palabras cualesquiera y devuelva el número de letras que tienen en común."
   ]
  },
  {
   "cell_type": "code",
   "execution_count": 16,
   "metadata": {},
   "outputs": [],
   "source": [
    "def letras_comun(palabra1, palabra2):\n",
    "    return len(set(palabra1.lower()) & set(palabra2.lower()))\n",
    "\n",
    "def letras_comun2(palabra1, palabra2):\n",
    "    return len(set(palabra1.lower()).intersection(palabra2.lower()))"
   ]
  },
  {
   "cell_type": "code",
   "execution_count": 19,
   "metadata": {},
   "outputs": [
    {
     "name": "stdout",
     "output_type": "stream",
     "text": [
      "3\n",
      "4\n"
     ]
    }
   ],
   "source": [
    "print(letras_comun(\"Hola\", \"hipopotamo\"))\n",
    "\n",
    "print(letras_comun2(\"ElHola\", \"eladios\"))"
   ]
  },
  {
   "attachments": {},
   "cell_type": "markdown",
   "metadata": {},
   "source": [
    "### Ejercicio 2\n",
    "Un número primo es aquel número que solo es divisible por 1 y por si mismo (2,3,5,7,11,13,...). Define una función que pida al usuario un número natural mayor que 2 y devuelva si se trata de un número primo o no."
   ]
  },
  {
   "cell_type": "code",
   "execution_count": 37,
   "metadata": {},
   "outputs": [],
   "source": [
    "def es_primo():\n",
    "    num = int(input(\"Introduce un numero: \"))\n",
    "    for i in range(2, num):\n",
    "        if num % i == 0:\n",
    "            print(num, \"no es primo\")\n",
    "            break\n",
    "    else:\n",
    "        print(num, \"es primo\")\n",
    "    "
   ]
  },
  {
   "cell_type": "code",
   "execution_count": 43,
   "metadata": {},
   "outputs": [
    {
     "name": "stdout",
     "output_type": "stream",
     "text": [
      "4 no es primo\n"
     ]
    }
   ],
   "source": [
    "es_primo()"
   ]
  },
  {
   "attachments": {},
   "cell_type": "markdown",
   "metadata": {},
   "source": [
    "### Ejercicio 3\n",
    "Desarrollar una función en la que se vaya pidiendo números reales al usuario (uno por uno) y una vez el usuario ingrese la palabra ***terminar***, la función devuelva el valor máximo y mínimo de los números ingresados por el usuario.\n"
   ]
  },
  {
   "cell_type": "code",
   "execution_count": null,
   "metadata": {},
   "outputs": [],
   "source": [
    "#función en la que se vaya pidiendo números reales al usuario (uno por uno) y una vez el usuario ingrese la palabra ***terminar***, la función devuelva el valor máximo y mínimo de los números ingresados por el usuario.\n",
    "\n",
    "def max_min():\n",
    "    terminar = False\n",
    "    numeros = []\n",
    "    while not terminar:\n",
    "        entrada = input(\"Intrduzca un número, presione \\\"enter\\\" e introduzca el siguiente. Para finalizar introduzca: ***terminar***\")\n",
    "        if entrada != \"terminar\":\n",
    "            try: \n",
    "                numeros.append(float(entrada))\n",
    "            except ValueError as e:\n",
    "                print(\"No es un número real\",e)    \n",
    "        else:\n",
    "            terminar = True\n",
    "    \n",
    "    #return f\"El valor máximo de la lista de números es {max(numeros)} y el valor mínimo es {min(numeros)}\"\n",
    "    return max(numeros), min(numeros)"
   ]
  },
  {
   "cell_type": "code",
   "execution_count": 47,
   "metadata": {},
   "outputs": [
    {
     "data": {
      "text/plain": [
       "'El valor máximo de la lista de números es 45.0 y el valor mínimo es -2.0'"
      ]
     },
     "execution_count": 47,
     "metadata": {},
     "output_type": "execute_result"
    }
   ],
   "source": [
    "max_min()"
   ]
  },
  {
   "attachments": {},
   "cell_type": "markdown",
   "metadata": {},
   "source": [
    "### Ejercicio 4\n",
    "Desarrollar una función que reciba como entrada una lista de palabras y devuelva la longitud de la palabra más corta y la palabra más larga."
   ]
  },
  {
   "cell_type": "code",
   "execution_count": 22,
   "metadata": {},
   "outputs": [],
   "source": [
    "def lista_palabras(lista):\n",
    "    long = []\n",
    "    if len(lista) == 0:\n",
    "        return print(\"No hay palabras en la lista\")\n",
    "    else:\n",
    "        for palabra in lista:\n",
    "            long.append(len(palabra))\n",
    "    \n",
    "    return print(f\"La palabra de mayor longitud es de {max(long)} letras, y la de menor longitud es de {min(long)} letras\")"
   ]
  },
  {
   "cell_type": "code",
   "execution_count": 23,
   "metadata": {},
   "outputs": [
    {
     "name": "stdout",
     "output_type": "stream",
     "text": [
      "La palabra de mayor longitud es de 10 letras, y la de menor longitud es de 4 letras\n",
      "La palabra de mayor longitud es de 5 letras, y la de menor longitud es de 5 letras\n",
      "No hay palabras en la lista\n"
     ]
    }
   ],
   "source": [
    "lista_palabras([\"hola\", \"adios\", \"mundo\",\"excelente\",\"improbable\",\"amor\"])\n",
    "\n",
    "lista_palabras([\"luisa\"])\n",
    "\n",
    "lista_palabras([])"
   ]
  },
  {
   "attachments": {},
   "cell_type": "markdown",
   "metadata": {},
   "source": [
    "### Ejercicio 5 \n",
    "Definir una función que reciba una cadena de caracteres y devuelva un diccionario cuyas claves sean las cinco vocales y sus valores sean sus frecuencias dentro de la cadena respectivamente."
   ]
  },
  {
   "cell_type": "code",
   "execution_count": 25,
   "metadata": {},
   "outputs": [],
   "source": [
    "def diccionario_vocales(cadena:str):\n",
    "    diccionario = {}\n",
    "    if (\"a\" or \"á\") in cadena:\n",
    "        diccionario[\"a\"] = cadena.lower().count(\"a\")+cadena.lower().count(\"á\")\n",
    "        if (\"e\" or \"é\") in cadena:\n",
    "            diccionario[\"e\"] = cadena.lower().count(\"e\")+cadena.lower().count(\"é\")\n",
    "            if (\"i\" or \"í\") in cadena:    \n",
    "                diccionario[\"i\"] = cadena.lower().count(\"i\")+cadena.lower().count(\"í\")\n",
    "                if (\"o\" or \"ó\") in cadena:    \n",
    "                    diccionario[\"o\"] = cadena.lower().count(\"o\")+cadena.lower().count(\"ó\")\n",
    "                    if (\"u\" or \"ú\") in cadena:    \n",
    "                        diccionario[\"u\"] = cadena.lower().count(\"u\")+cadena.lower().count(\"ú\")\n",
    "    else:    \n",
    "        print(\"No hay vocales en la cadena\")\n",
    "    return diccionario                    \n",
    "\n",
    "\n",
    "        "
   ]
  },
  {
   "cell_type": "code",
   "execution_count": 26,
   "metadata": {},
   "outputs": [
    {
     "name": "stdout",
     "output_type": "stream",
     "text": [
      "a : 3\n",
      "e : 2\n",
      "i : 6\n",
      "o : 2\n",
      "u : 2\n"
     ]
    }
   ],
   "source": [
    "cadena = \"Supercalifragilisticuespialidoso\"\n",
    "vocales = diccionario_vocales(cadena)\n",
    "for key,value in vocales.items():\n",
    "    print(key ,\":\", value)\n",
    "\n"
   ]
  },
  {
   "cell_type": "code",
   "execution_count": 39,
   "metadata": {},
   "outputs": [
    {
     "name": "stdout",
     "output_type": "stream",
     "text": [
      "a : 3\n",
      "e : 2\n",
      "i : 6\n",
      "o : 2\n",
      "u : 2\n"
     ]
    }
   ],
   "source": [
    "#%%timeit\n",
    "def dict_vowels(cadena:str,imprimir = False):\n",
    "    vowels = [\"a\",\"e\",\"i\",\"o\",\"u\"]\n",
    "    dict_vowels = {}\n",
    "    for vowel in vowels:\n",
    "        if vowel in cadena:\n",
    "            dict_vowels[vowel] = cadena.count(vowel)\n",
    "    \n",
    "    if imprimir:\n",
    "        for key,value in vocales.items():\n",
    "            print(key ,\":\", value)\n",
    "    else:\n",
    "        return dict_vowels\n",
    "\n",
    "\n",
    "cadena = \"Supercalifragilisticuespialidoso\"\n",
    "dict_vowels(cadena,imprimir = True)\n",
    "\n"
   ]
  },
  {
   "cell_type": "code",
   "execution_count": 40,
   "metadata": {},
   "outputs": [
    {
     "name": "stdout",
     "output_type": "stream",
     "text": [
      "a : 3\n",
      "e : 2\n",
      "i : 6\n",
      "o : 2\n",
      "u : 2\n"
     ]
    }
   ],
   "source": [
    "def dict_vowels(cadena:str,imprimir = False):\n",
    "    vowels =  {\"a\":0,\"e\":0,\"i\":0,\"o\":0,\"u\":0}\n",
    "    #dict_vowels = {}\n",
    "    for vowel in vowels:\n",
    "            vowels[vowel] = cadena.count(vowel)\n",
    "    \n",
    "    if imprimir:\n",
    "        for key,value in vocales.items():\n",
    "            print(key ,\":\", value)\n",
    "    else:\n",
    "        return dict_vowels\n",
    "\n",
    "\n",
    "cadena = \"Supercalifragilisticuespialidoso\"\n",
    "dict_vowels(cadena,imprimir = True)"
   ]
  },
  {
   "cell_type": "code",
   "execution_count": null,
   "metadata": {},
   "outputs": [],
   "source": [
    "def dict_vowels(cadena:str,imprimir = False):\n",
    "    vowels =  {\"a\":0,\"e\":0,\"i\":0,\"o\":0,\"u\":0}\n",
    "    #dict_vowels = {}\n",
    "    for vowel in vowels:\n",
    "            vowels[vowel] = cadena.count(vowel)\n",
    "    \n",
    "    if imprimir:\n",
    "        for key,value in vocales.items():\n",
    "            print(key ,\":\", value)\n",
    "    else:\n",
    "        return dict_vowels\n"
   ]
  },
  {
   "attachments": {},
   "cell_type": "markdown",
   "metadata": {},
   "source": [
    "### Ejercicio 6\n",
    "Definir un programa que pida al usuario dos palabras y devuelva ***True*** si las palabras riman y ***False*** si las palabras no riman."
   ]
  },
  {
   "cell_type": "code",
   "execution_count": null,
   "metadata": {},
   "outputs": [],
   "source": [
    "def rima(palabra1, palabra2):\n",
    "    if palabra1[-2:] == palabra2[-2:]:\n",
    "        return True\n",
    "    else:\n",
    "        return False\n"
   ]
  },
  {
   "cell_type": "code",
   "execution_count": 32,
   "metadata": {},
   "outputs": [
    {
     "name": "stdout",
     "output_type": "stream",
     "text": [
      "True\n",
      "False\n"
     ]
    }
   ],
   "source": [
    "print(rima(\"perro\",\"hierro\"))\n",
    "\n",
    "print(rima(\"perro\",\"hielo\"))"
   ]
  },
  {
   "attachments": {},
   "cell_type": "markdown",
   "metadata": {},
   "source": [
    "### Ejercicio 7\n",
    "Desarrollar una función que reciba una lista de números y devuelva una lista de listas (lista = [$\\text{sublista}_{1}$,$\\text{sublista}_{2}$,$\\text{sublista}_{3}$]), en la que cada sublista contendrá determinados números.\n",
    "\n",
    "* sublista1: los números que tengan de 1-6 cifras.\n",
    "* sublista2: los números que tengan de 7-12 cifras.\n",
    "* sublista3: los números que tengan m´as de 12 cifras.\n",
    "\n",
    "**Nota**: cuidado cuando tengamos un número negativo o con decimales.\n"
   ]
  },
  {
   "cell_type": "code",
   "execution_count": 33,
   "metadata": {},
   "outputs": [],
   "source": [
    "\n",
    "def sublistas(lista):\n",
    "    sublista1 = []\n",
    "    sublista2 = []\n",
    "    sublista3 = []\n",
    "    for num in lista:\n",
    "        if str(num).isnumeric():\n",
    "            long = len(str(abs(num)))\n",
    "        else:   \n",
    "            long = len(str(abs(num)))-1\n",
    "\n",
    "        if  long<=6: \n",
    "            sublista1.append(num)\n",
    "        elif (long >= 7 and long <= 12):\n",
    "            sublista2.append(num)\n",
    "        else:\n",
    "            sublista3.append(num)\n",
    "            \n",
    "    lista = [sublista1,sublista2,sublista3]\n",
    "    return lista "
   ]
  },
  {
   "cell_type": "code",
   "execution_count": 34,
   "metadata": {},
   "outputs": [
    {
     "data": {
      "text/plain": [
       "[[123456, -123457, 12345.6], [1234567, 1234567890], [1234567891011121314]]"
      ]
     },
     "execution_count": 34,
     "metadata": {},
     "output_type": "execute_result"
    }
   ],
   "source": [
    "lista = [123456,1234567,1234567890,1234567891011121314,-123457,12345.6]\n",
    "sublistas(lista)"
   ]
  }
 ],
 "metadata": {
  "kernelspec": {
   "display_name": "Python 3",
   "language": "python",
   "name": "python3"
  },
  "language_info": {
   "codemirror_mode": {
    "name": "ipython",
    "version": 3
   },
   "file_extension": ".py",
   "mimetype": "text/x-python",
   "name": "python",
   "nbconvert_exporter": "python",
   "pygments_lexer": "ipython3",
   "version": "3.12.9"
  },
  "vscode": {
   "interpreter": {
    "hash": "abc9fc88bc0e5c548c5da0f33af674c000293e7a58ee42428ace4cfa52bc0e99"
   }
  }
 },
 "nbformat": 4,
 "nbformat_minor": 2
}
