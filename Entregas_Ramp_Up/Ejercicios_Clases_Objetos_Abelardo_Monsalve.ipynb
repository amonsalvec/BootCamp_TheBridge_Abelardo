{
 "cells": [
  {
   "cell_type": "markdown",
   "metadata": {},
   "source": [
    "![imagen](./img/ejercicios.png)\n",
    "\n",
    "# Ejercicios Clases y Objetos"
   ]
  },
  {
   "attachments": {},
   "cell_type": "markdown",
   "metadata": {},
   "source": [
    "## Ejercicio 1\n",
    "Somos una empresa que tiene varias tiendas de electrodomésticos. Necesitamos un programa para manejar las tiendas, ver las ventas que han tenido, cuántos empleados hay, etc... Para ello vamos a modelizar la tienda en una clase, que tendrá las siguientes características:\n",
    "* Nombre clase: \"Tienda\"\n",
    "* Atributos comunes:\n",
    "    * Tipo: \"Electrodomésticos\"\n",
    "    * Abierta: True\n",
    "* Atributos propios de cada tienda:\n",
    "    * Nombre - String\n",
    "    * Dirección - String\n",
    "    * Número de empleados - int\n",
    "    * Ventas últimos 3 meses - Lista de 3 numeros\n",
    "* Método para calcular las ventas de todos los meses, que devuelva un número con todas las ventas.\n",
    "* Método que calcula la media de ventas de los últimos meses, por empleado\n",
    "* Método que devuelve en un string el nombre de la tienda, junto con su dirección.\n",
    "* Método que obtiene las ventas del último mes.\n",
    "* Método para dar una proyección de las ventas en caso de haber invertido X dinero en marketing en esa tienda. Siendo X el parámetro de entrada. Si X es menor de 1000, las ventas de los ultimos 3 meses hubiesen sido de (1.2 x ventas), si es mayor o igual de 1000, las ventas hubiesen sido de (1.5 x venta). El método reescribe el atributo de ventas en los últimos 3 meses, y además devuelve las ventas con el aumento.\n",
    "\n",
    "Se pide:\n",
    "1. Implementar la clase \"Tienda\"\n",
    "2. Crear tres tiendas con datos inventados\n",
    "3. Comprueba en al menos una de ellas, todo lo implementado en la clase tienda (sus atributos, media de ventas, ventas/empleado...)\n",
    "3. Calcular las ventas del último mes de todas las tiendas. Para ello usa el bucle `for`\n",
    "4. Imprime por pantalla los nombres de las tiendas cuya dirección lleve el string \"Avenida\"\n",
    "5. Seguro que ya has hecho este apartado... Documenta la clase :)"
   ]
  },
  {
   "cell_type": "code",
   "execution_count": 1,
   "metadata": {},
   "outputs": [],
   "source": [
    "# 1.Implemetación de la Clase Tienda:\n",
    "\n",
    "class Tienda:\n",
    "    '''\n",
    "    Clase Tienda para manejar las ventas en las tiendas de una empresa.\n",
    "\n",
    "    Atributos de Clase:\n",
    "        Tipo: distingue el tipo de producto en venta \"Electrodomésticos\"\n",
    "        Aberta: de tipo booleano para establecer si está abierta o no.\n",
    "    \n",
    "        \n",
    "    Atributos de Instancia:\n",
    "    Constructor:\n",
    "        nombre: nombre de la tienda\n",
    "        direccion: direccion de la tienda\n",
    "        numero_empleados: numero de empleados de la tienda\n",
    "        ventas_mes: ventas de los ultimos 3 meses\n",
    "\n",
    "    Métodos\n",
    "        ventas_totales_meses: devuelve la suma de las ventas de los ultimos 3 meses\n",
    "        prom_ventas_por_empleado: devuelve el promedio de ventas por empleado\n",
    "        nombre_y_direccion: devuelve el nombre y la direccion de la tienda\n",
    "        ventas_ultimo_mes: devuelve las ventas del ultimo mes\n",
    "        proyeccion_ventas_marketing: devuelve las ventas del ultimo mes con un aumento del 20% si la inversion es menor a 1000 y un aumento del 50% si la inversion es mayor o igual a 1000\n",
    "                \n",
    "    '''\n",
    "    Tipo = \"Electrodomésticos\"\n",
    "    Abierta = True\n",
    "\n",
    "    \n",
    "\n",
    "    def __init__(self,nombre,direccion,numero_empleados,ventas_mes):\n",
    "        self.nombre = nombre\n",
    "        self.direccion = direccion\n",
    "        self.numero_empleados = numero_empleados\n",
    "        self.ventas_mes = ventas_mes\n",
    "\n",
    "    def ventas_totales_meses(self):\n",
    "        return sum(self.ventas_mes)\n",
    "    \n",
    "    def prom_ventas_por_empleado(self):\n",
    "        return self.ventas_totales_meses() / self.numero_empleados\n",
    "    \n",
    "    def nombre_y_direccion(self):\n",
    "        return f\"{self.nombre}, {self.direccion}\"\n",
    "    \n",
    "    def ventas_ultimo_mes(self):\n",
    "        return self.ventas_mes[-1]\n",
    "    \n",
    "    def proyeccion_ventas_marketing(self, inversion):\n",
    "        if inversion < 1000:\n",
    "            aumento = 1.2\n",
    "        else:\n",
    "            aumento = 1.5\n",
    "\n",
    "        self.ventas_mes = [venta * aumento for venta in self.ventas_mes]\n",
    "\n",
    "        return self.ventas_mes\n",
    "\n",
    "    def __str__(self):\n",
    "        return f\"Tienda: {self.nombre}, Dirección: {self.direccion}, Empleados: {self.numero_empleados}, Ventas: {self.ventas_mes}\"\n",
    " \n",
    "    def print_datos(self):\n",
    "        print(\"Nombre:\", self.nombre)\n",
    "        print(\"Direccion:\", self.direccion)\n",
    "        print(\"Número de empleados:\", self.numero_empleados) \n",
    "        print(\"Ventas :\", self.ventas_mes)\n"
   ]
  },
  {
   "cell_type": "code",
   "execution_count": 2,
   "metadata": {},
   "outputs": [],
   "source": [
    "# 2. Creación de tiendas\n",
    "tiendaCentro = Tienda(\"Tienda Centro\", \"Avenida Gran Via 123\", 10, [1000, 1500, 1300])\n",
    "tiendaMayor = Tienda(\"Tienda Mayor\", \"Calle Elcano 456\", 8, [900, 1100, 1200])\n",
    "tiendaAvenida = Tienda(\"Tienda Avenida\", \"Avenida Lehendakari Aguirre 789\", 15, [2000, 2500, 2400])"
   ]
  },
  {
   "cell_type": "code",
   "execution_count": 3,
   "metadata": {},
   "outputs": [
    {
     "data": {
      "text/plain": [
       "'Tienda: Tienda Centro, Dirección: Avenida Gran Via 123, Empleados: 10, Ventas: [1000, 1500, 1300]'"
      ]
     },
     "execution_count": 3,
     "metadata": {},
     "output_type": "execute_result"
    }
   ],
   "source": [
    "tiendaCentro.__str__()"
   ]
  },
  {
   "cell_type": "code",
   "execution_count": 4,
   "metadata": {},
   "outputs": [
    {
     "name": "stdout",
     "output_type": "stream",
     "text": [
      "Nombre: Tienda Centro\n",
      "Direccion: Avenida Gran Via 123\n",
      "Número de empleados: 10\n",
      "Ventas : [1000, 1500, 1300]\n"
     ]
    }
   ],
   "source": [
    "tiendaCentro.print_datos()"
   ]
  },
  {
   "cell_type": "code",
   "execution_count": 5,
   "metadata": {},
   "outputs": [
    {
     "name": "stdout",
     "output_type": "stream",
     "text": [
      "***************\n",
      "Tienda Centro, Avenida Gran Via 123\n",
      "Ventas totales: 3800\n",
      "Media de ventas por empleado: 380.0\n",
      "Ventas del último mes: 1300\n",
      "Proyección de ventas con 500 en marketing: [1200.0, 1800.0, 1560.0]\n",
      "***************\n"
     ]
    }
   ],
   "source": [
    "# 3. Comprobación de la implementación de la clase en la tiendaCEntro \n",
    "\n",
    "print(\"***************\")\n",
    "# Comprobando en tienda1 todo lo implementado\n",
    "print(tiendaCentro.nombre_y_direccion())  # Nombre y dirección\n",
    "print(\"Ventas totales:\", tiendaCentro.ventas_totales_meses())  # Ventas totales\n",
    "print(\"Media de ventas por empleado:\", tiendaCentro.prom_ventas_por_empleado())  # Media de ventas por empleado\n",
    "print(\"Ventas del último mes:\", tiendaCentro.ventas_ultimo_mes())  # Ventas del último mes\n",
    "print(\"Proyección de ventas con 500 en marketing:\", tiendaCentro.proyeccion_ventas_marketing(500))  # Proyección de ventas\n",
    "print(\"***************\")"
   ]
  },
  {
   "cell_type": "code",
   "execution_count": 6,
   "metadata": {},
   "outputs": [
    {
     "name": "stdout",
     "output_type": "stream",
     "text": [
      "***************\n",
      "Ventas del último mes de todas las tiendas: [1560.0, 1200, 2400]\n",
      "***************\n"
     ]
    }
   ],
   "source": [
    "# 4. Ventas del último mes de todas las tiendas\n",
    "print(\"***************\")\n",
    "# Calcular las ventas del último mes de todas las tiendas\n",
    "ventas_ultimo_mes_todas_tiendas = [tienda.ventas_ultimo_mes() for tienda in [tiendaCentro, tiendaMayor, tiendaAvenida]]\n",
    "print(\"Ventas del último mes de todas las tiendas:\", ventas_ultimo_mes_todas_tiendas)\n",
    "print(\"***************\")\n"
   ]
  },
  {
   "cell_type": "code",
   "execution_count": 7,
   "metadata": {},
   "outputs": [
    {
     "name": "stdout",
     "output_type": "stream",
     "text": [
      "Tienda Centro\n",
      "Tienda Avenida\n"
     ]
    }
   ],
   "source": [
    "# Imprime por pantalla los nombres de las tiendas cuya dirección lleve el string \"Avenida\"\n",
    "for tienda in [tiendaCentro, tiendaMayor, tiendaAvenida]:\n",
    "    if \"Avenida\" in tienda.direccion:\n",
    "        print(tienda.nombre)"
   ]
  },
  {
   "cell_type": "code",
   "execution_count": 9,
   "metadata": {},
   "outputs": [
    {
     "name": "stdout",
     "output_type": "stream",
     "text": [
      "\n",
      "Clase Tienda para manejar las ventas en las tiendas de una empresa.\n",
      "\n",
      "Atributos de Clase:\n",
      "    Tipo: distingue el tipo de producto en venta \"Electrodomésticos\"\n",
      "    Aberta: de tipo booleano para establecer si está abierta o no.\n",
      "\n",
      "    \n",
      "Atributos de Instancia:\n",
      "Constructor:\n",
      "    nombre: nombre de la tienda\n",
      "    direccion: direccion de la tienda\n",
      "    numero_empleados: numero de empleados de la tienda\n",
      "    ventas_mes: ventas de los ultimos 3 meses\n",
      "\n",
      "Métodos\n",
      "    ventas_totales_meses: devuelve la suma de las ventas de los ultimos 3 meses\n",
      "    prom_ventas_por_empleado: devuelve el promedio de ventas por empleado\n",
      "    nombre_y_direccion: devuelve el nombre y la direccion de la tienda\n",
      "    ventas_ultimo_mes: devuelve las ventas del ultimo mes\n",
      "    proyeccion_ventas_marketing: devuelve las ventas del ultimo mes con un aumento del 20% si la inversion es menor a 1000 y un aumento del 50% si la inversion es mayor o igual a 1000\n",
      "            \n",
      "\n"
     ]
    }
   ],
   "source": [
    "print(Tienda.__doc__)\n",
    "\n"
   ]
  },
  {
   "cell_type": "markdown",
   "metadata": {},
   "source": [
    "## Ejercicio 2\n",
    "En este ejercicio vamos a implementar una clase *Perro* en Python. La clase tiene las siguientes características:\n",
    "* Cosas que sabemos seguro que tiene un perro\n",
    "    * Tiene 4 patas\n",
    "    * 2 orejas\n",
    "    * 2 ojos\n",
    "    * Una velocidad de 0. Por defecto, el perro está parado\n",
    "* Cuando se inicialice:\n",
    "    * El perro será de una determinada raza\n",
    "    * Por defecto tendrá pelo \"Marrón\", a no ser que se diga lo contrario.\n",
    "    * Por defecto no tendrá dueño, a no ser que se diga lo contrario.\n",
    "    \n",
    "* Dispondrá también de un método llamado andar, que tiene un argumento de entrada (aumento_velocidad). Este valor se le sumará a la velocidad que ya llevaba el perro.\n",
    "* Necesita otro método (parar), donde pondremos la velocidad a 0.\n",
    "* Otro método llamado \"ladrar\", que tendrá un argumento de entrada, y la salida será el siguiente string: \"GUAU!\" + el argumento de entrada.\n",
    "\n",
    "\n",
    "Se pide:\n",
    "* Implementa la clase *Perro*\n",
    "* Crea un objeto de tipo *Perro*, sin dueño\n",
    "* Comprueba que están bien todos sus atributos\n",
    "* Prueba que ande, y comprueba su velocidad\n",
    "* Páralo\n",
    "* Documenta la clase *Perro*"
   ]
  },
  {
   "cell_type": "code",
   "execution_count": 29,
   "metadata": {},
   "outputs": [],
   "source": [
    "class Perro: \n",
    "    '''\n",
    "    Clase animal Perro para representar sus características y actividades.\n",
    "\n",
    "    Atributos de Clase:\n",
    "        patas = número común de patas de los perros = 4\n",
    "        orejas = número común de orejas de los perros = 2\n",
    "        ojos = número común de ojos de los perros = 3\n",
    "        velocidad = velocidad de un perro en reposo = 0 \n",
    "        \n",
    "    Atributos de Instancia:\n",
    "    Constructor:\n",
    "        raza = tipo string\n",
    "        duenyo = tipo booleano, por defecto False ( no tiene dueño) \n",
    "        color_pelo = tipo string, por defecto \"Marron\"\n",
    "\n",
    "    Métodos\n",
    "        andar: requiere un argumento de entrada = \"nueva_velocidad\" (int > 0) y modifica la velocidad inicial del perro\n",
    "            velocidad = velocidad + nueva_velocidad\n",
    "        \n",
    "        parar(self):\n",
    "        self.velocidad = 0\n",
    "\n",
    "        ladrar(self,arg):\n",
    "            return \"GUAU \" + arg\n",
    "                \n",
    "    '''\n",
    "    patas = 4\n",
    "    orejas = 2\n",
    "    ojos = 2\n",
    "    velocidad = 0 \n",
    "\n",
    "    def __init__(self, raza, duenyo = False , color_pelo = \"Marrón\"): \n",
    "        self.raza = raza\n",
    "        self.duenyo = duenyo \n",
    "        self.color_pelo = color_pelo\n",
    "\n",
    "    def print_datos(self):\n",
    "        print(\"Raza:\", self.raza)\n",
    "        print(\"Tiene dueño:\", self.duenyo)\n",
    "        print(\"El color de su pelaje es :\", self.color_pelo) \n",
    "        print(\"Su velocidad de movimiento es:\", self.velocidad)\n",
    "\n",
    "    def andar(self, nueva_velocidad):\n",
    "        self.velocidad = self.velocidad + nueva_velocidad\n",
    "        \n",
    "    def parar(self):\n",
    "        self.velocidad = 0\n",
    "\n",
    "    def ladrar(self,arg):\n",
    "            return \"GUAU \" + arg\n",
    "\n",
    "    def __str__(self):\n",
    "        return f\"Perro de raza {self.raza}, pelo {self.color_pelo}, dueño {'sí' if self.duenyo else 'no'}, velocidad {self.velocidad}\"        \n",
    "    "
   ]
  },
  {
   "cell_type": "code",
   "execution_count": 30,
   "metadata": {},
   "outputs": [
    {
     "name": "stdout",
     "output_type": "stream",
     "text": [
      "Perro de raza Schnauzer, pelo Marrón, dueño no, velocidad 0\n"
     ]
    }
   ],
   "source": [
    "# Crear un objeto de tipo Perro sin dueño\n",
    "mi_perro = Perro(raza= \"Schnauzer\", duenyo= False)\n",
    "\n",
    "# Comprobación de que están bien todos sus atributos\n",
    "print(mi_perro)  # Salida esperada: Perro de raza Labrador, pelo Marrón, dueño no, velocidad 0\n",
    "\n"
   ]
  },
  {
   "cell_type": "code",
   "execution_count": 31,
   "metadata": {},
   "outputs": [
    {
     "name": "stdout",
     "output_type": "stream",
     "text": [
      "Velocidad después de andar: 5\n"
     ]
    }
   ],
   "source": [
    "# Prueba de que ande, y comprobación de su velocidad\n",
    "mi_perro.andar(5)\n",
    "print(f\"Velocidad después de andar: {mi_perro.velocidad}\")  # Salida esperada: Velocidad después de andar: 5"
   ]
  },
  {
   "cell_type": "code",
   "execution_count": 33,
   "metadata": {},
   "outputs": [
    {
     "name": "stdout",
     "output_type": "stream",
     "text": [
      "Velocidad después de parar: 0\n"
     ]
    }
   ],
   "source": [
    "# Párarlo\n",
    "mi_perro.parar()\n",
    "print(f\"Velocidad después de parar: {mi_perro.velocidad}\")  # Salida esperada: Velocidad después de parar: 0"
   ]
  },
  {
   "cell_type": "code",
   "execution_count": 35,
   "metadata": {},
   "outputs": [
    {
     "name": "stdout",
     "output_type": "stream",
     "text": [
      "GUAU Hola\n"
     ]
    }
   ],
   "source": [
    "# Probar el método ladrar\n",
    "print(mi_perro.ladrar(\"Hola\"))  # Salida esperada: GUAU! Hola   "
   ]
  }
 ],
 "metadata": {
  "kernelspec": {
   "display_name": "Python 3",
   "language": "python",
   "name": "python3"
  },
  "language_info": {
   "codemirror_mode": {
    "name": "ipython",
    "version": 3
   },
   "file_extension": ".py",
   "mimetype": "text/x-python",
   "name": "python",
   "nbconvert_exporter": "python",
   "pygments_lexer": "ipython3",
   "version": "3.13.1"
  }
 },
 "nbformat": 4,
 "nbformat_minor": 4
}
