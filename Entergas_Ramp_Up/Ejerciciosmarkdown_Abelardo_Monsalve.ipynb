{
 "cells": [
  {
   "attachments": {},
   "cell_type": "markdown",
   "metadata": {},
   "source": [
    "![imagen](./img/ejercicios.png)\n",
    "# Markdown\n",
    "\n",
    "## Ejercicio 1\n",
    "Vamos a aplicar los conocimientos adquiridos en este notebook, intentando reproducir la siguiente imagen en una celda markdown con su sintaxis. En el link va la página: https://www.kaggle.com/\n",
    "\n",
    "**TIP**: en [este enlace](https://www.markdownguide.org/basic-syntax/) tienes más ejemplos, por si te atascas con algo :)\n"
   ]
  },
  {
   "cell_type": "markdown",
   "metadata": {},
   "source": [
    "![imagen](./img/ejercicio_markdown.png)"
   ]
  },
  {
   "cell_type": "markdown",
   "metadata": {},
   "source": [
    "... AQUÍ VA VUESTRO MARKDOWN ...\n"
   ]
  },
  {
   "cell_type": "markdown",
   "metadata": {},
   "source": [
    "## Aptitudes de un Data Scientist\n",
    "\n",
    ">### **Lo más importante**\n",
    "> \n",
    ">  * Mathematics  \n",
    ">  * Python\n",
    ">  * SQL\n",
    ">\n",
    ">\n",
    "> ![python.png](./img/python.png)\n",
    ">\n",
    "> Otro tema importante es el *Business Intelligence*\n",
    ">\n",
    "> Si tienes dudas, puedes escribirme a: <miguel.nievas@thebrideschool.es>\n",
    ">\n",
    "> En esta página se aprende mucho de machine learning: [**página con ML**](https://www.kaggle.com/)\n"
   ]
  },
  {
   "cell_type": "markdown",
   "metadata": {},
   "source": []
  },
  {
   "attachments": {},
   "cell_type": "markdown",
   "metadata": {},
   "source": [
    "## Ejercicio 2\n",
    "Para este ejercicio vas a crear dos nuevos elementos que no hemos visto en la teoría, tendrás que buscar en google cómo hacer: una tabla y una fórmula. Busca en la web la sintaxis y replica ambos elementos."
   ]
  },
  {
   "cell_type": "markdown",
   "metadata": {},
   "source": [
    "![ejercicio2](./img/md_ejercicio2.PNG)"
   ]
  },
  {
   "cell_type": "markdown",
   "metadata": {},
   "source": [
    "... AQUI VA VUESTRO MARKDOWN ...\n",
    "\n",
    "<center>\n",
    "\n",
    "| **Ramp up** | **Data Analysis** | **Machine Learning** |**Data & Business**|\n",
    "| --          | --                | --                   | --                |\n",
    "| Python      | EDA               | Supervised           | Productivización  |\n",
    "| Estadística | R                 | Non supervised       | Storytelling      |\n",
    "| SQL         | Feat. Eng.        | Deep learning        | API               |\n",
    "\n",
    "</center>"
   ]
  },
  {
   "cell_type": "markdown",
   "metadata": {},
   "source": [
    "$$\\sqrt{3x-1} + (1+x)^2$$"
   ]
  }
 ],
 "metadata": {
  "kernelspec": {
   "display_name": "Python 3",
   "language": "python",
   "name": "python3"
  },
  "language_info": {
   "codemirror_mode": {
    "name": "ipython",
    "version": 3
   },
   "file_extension": ".py",
   "mimetype": "text/x-python",
   "name": "python",
   "nbconvert_exporter": "python",
   "pygments_lexer": "ipython3",
   "version": "3.13.1"
  }
 },
 "nbformat": 4,
 "nbformat_minor": 4
}
