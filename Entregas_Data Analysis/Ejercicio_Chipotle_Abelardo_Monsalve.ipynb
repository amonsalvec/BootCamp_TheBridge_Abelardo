{
 "cells": [
  {
   "attachments": {},
   "cell_type": "markdown",
   "metadata": {},
   "source": [
    "Importamos las librerías Pandas y Numpy"
   ]
  },
  {
   "cell_type": "code",
   "execution_count": 3,
   "metadata": {},
   "outputs": [],
   "source": [
    "import pandas as pd\n",
    "import numpy as np"
   ]
  },
  {
   "attachments": {},
   "cell_type": "markdown",
   "metadata": {},
   "source": [
    "### Step 2. Tomaremos el fichero en [esta URL](https://raw.githubusercontent.com/justmarkham/DAT8/master/data/chipotle.tsv) y lo leeremos como un dataframe.\n",
    "\n",
    "Pista: [read_csv](https://numpy.org/doc/stable/user/absolute_beginners.html#importing-and-exporting-a-csv)"
   ]
  },
  {
   "cell_type": "code",
   "execution_count": 19,
   "metadata": {},
   "outputs": [
    {
     "data": {
      "text/html": [
       "<div>\n",
       "<style scoped>\n",
       "    .dataframe tbody tr th:only-of-type {\n",
       "        vertical-align: middle;\n",
       "    }\n",
       "\n",
       "    .dataframe tbody tr th {\n",
       "        vertical-align: top;\n",
       "    }\n",
       "\n",
       "    .dataframe thead th {\n",
       "        text-align: right;\n",
       "    }\n",
       "</style>\n",
       "<table border=\"1\" class=\"dataframe\">\n",
       "  <thead>\n",
       "    <tr style=\"text-align: right;\">\n",
       "      <th></th>\n",
       "      <th>order_id</th>\n",
       "      <th>quantity</th>\n",
       "      <th>item_name</th>\n",
       "      <th>choice_description</th>\n",
       "      <th>item_price</th>\n",
       "      <th>item_price_float</th>\n",
       "    </tr>\n",
       "  </thead>\n",
       "  <tbody>\n",
       "    <tr>\n",
       "      <th>0</th>\n",
       "      <td>1</td>\n",
       "      <td>1</td>\n",
       "      <td>Chips and Fresh Tomato Salsa</td>\n",
       "      <td>NaN</td>\n",
       "      <td>$2.39</td>\n",
       "      <td>2.39</td>\n",
       "    </tr>\n",
       "    <tr>\n",
       "      <th>1</th>\n",
       "      <td>1</td>\n",
       "      <td>1</td>\n",
       "      <td>Izze</td>\n",
       "      <td>[Clementine]</td>\n",
       "      <td>$3.39</td>\n",
       "      <td>3.39</td>\n",
       "    </tr>\n",
       "    <tr>\n",
       "      <th>2</th>\n",
       "      <td>1</td>\n",
       "      <td>1</td>\n",
       "      <td>Nantucket Nectar</td>\n",
       "      <td>[Apple]</td>\n",
       "      <td>$3.39</td>\n",
       "      <td>3.39</td>\n",
       "    </tr>\n",
       "    <tr>\n",
       "      <th>3</th>\n",
       "      <td>1</td>\n",
       "      <td>1</td>\n",
       "      <td>Chips and Tomatillo-Green Chili Salsa</td>\n",
       "      <td>NaN</td>\n",
       "      <td>$2.39</td>\n",
       "      <td>2.39</td>\n",
       "    </tr>\n",
       "    <tr>\n",
       "      <th>4</th>\n",
       "      <td>2</td>\n",
       "      <td>2</td>\n",
       "      <td>Chicken Bowl</td>\n",
       "      <td>[Tomatillo-Red Chili Salsa (Hot), [Black Beans...</td>\n",
       "      <td>$16.98</td>\n",
       "      <td>16.98</td>\n",
       "    </tr>\n",
       "  </tbody>\n",
       "</table>\n",
       "</div>"
      ],
      "text/plain": [
       "   order_id  quantity                              item_name  \\\n",
       "0         1         1           Chips and Fresh Tomato Salsa   \n",
       "1         1         1                                   Izze   \n",
       "2         1         1                       Nantucket Nectar   \n",
       "3         1         1  Chips and Tomatillo-Green Chili Salsa   \n",
       "4         2         2                           Chicken Bowl   \n",
       "\n",
       "                                  choice_description item_price  \\\n",
       "0                                                NaN     $2.39    \n",
       "1                                       [Clementine]     $3.39    \n",
       "2                                            [Apple]     $3.39    \n",
       "3                                                NaN     $2.39    \n",
       "4  [Tomatillo-Red Chili Salsa (Hot), [Black Beans...    $16.98    \n",
       "\n",
       "   item_price_float  \n",
       "0              2.39  \n",
       "1              3.39  \n",
       "2              3.39  \n",
       "3              2.39  \n",
       "4             16.98  "
      ]
     },
     "execution_count": 19,
     "metadata": {},
     "output_type": "execute_result"
    }
   ],
   "source": [
    "url = \"https://raw.githubusercontent.com/justmarkham/DAT8/master/data/chipotle.tsv\"\n",
    "df_file = pd.read_csv(\"chipotle.csv\",sep = \"\\t\",)#, index_col = \"user_id\")\n",
    "df = pd.read_csv(url, sep='\\t')#, index_col='user_id')\n",
    "\n",
    "df[\"item_price_float\"]=df[\"item_price\"].str.replace(\"$\",\"\").astype(float)\n",
    "df.head()"
   ]
  },
  {
   "attachments": {},
   "cell_type": "markdown",
   "metadata": {},
   "source": [
    "### Step 3. Veamos los tipos de datos. ¿Podríamos obtener el producto de mayor precio?"
   ]
  },
  {
   "cell_type": "code",
   "execution_count": 5,
   "metadata": {},
   "outputs": [
    {
     "name": "stdout",
     "output_type": "stream",
     "text": [
      "<class 'pandas.core.frame.DataFrame'>\n",
      "RangeIndex: 4622 entries, 0 to 4621\n",
      "Data columns (total 6 columns):\n",
      " #   Column              Non-Null Count  Dtype  \n",
      "---  ------              --------------  -----  \n",
      " 0   order_id            4622 non-null   int64  \n",
      " 1   quantity            4622 non-null   int64  \n",
      " 2   item_name           4622 non-null   object \n",
      " 3   choice_description  3376 non-null   object \n",
      " 4   item_price          4622 non-null   object \n",
      " 5   item_price_float    4622 non-null   float64\n",
      "dtypes: float64(1), int64(2), object(3)\n",
      "memory usage: 216.8+ KB\n",
      "------------------------\n",
      "El tipo de datos para cada columna es :\n",
      "order_id                int64\n",
      "quantity                int64\n",
      "item_name              object\n",
      "choice_description     object\n",
      "item_price             object\n",
      "item_price_float      float64\n",
      "dtype: object\n"
     ]
    }
   ],
   "source": [
    "df.info() # Tipos de los datos\n",
    "print(\"------------------------\")\n",
    "# Otra forma de obtenerlo:\n",
    "print(f\"El tipo de datos para cada columna es :\\n{df.dtypes}\") # Tipos de los datos\n"
   ]
  },
  {
   "cell_type": "code",
   "execution_count": 6,
   "metadata": {},
   "outputs": [
    {
     "data": {
      "text/html": [
       "<div>\n",
       "<style scoped>\n",
       "    .dataframe tbody tr th:only-of-type {\n",
       "        vertical-align: middle;\n",
       "    }\n",
       "\n",
       "    .dataframe tbody tr th {\n",
       "        vertical-align: top;\n",
       "    }\n",
       "\n",
       "    .dataframe thead th {\n",
       "        text-align: right;\n",
       "    }\n",
       "</style>\n",
       "<table border=\"1\" class=\"dataframe\">\n",
       "  <thead>\n",
       "    <tr style=\"text-align: right;\">\n",
       "      <th></th>\n",
       "      <th>order_id</th>\n",
       "      <th>quantity</th>\n",
       "      <th>item_name</th>\n",
       "      <th>choice_description</th>\n",
       "      <th>item_price</th>\n",
       "      <th>item_price_float</th>\n",
       "    </tr>\n",
       "  </thead>\n",
       "  <tbody>\n",
       "    <tr>\n",
       "      <th>3598</th>\n",
       "      <td>1443</td>\n",
       "      <td>15</td>\n",
       "      <td>Chips and Fresh Tomato Salsa</td>\n",
       "      <td>NaN</td>\n",
       "      <td>$44.25</td>\n",
       "      <td>44.25</td>\n",
       "    </tr>\n",
       "  </tbody>\n",
       "</table>\n",
       "</div>"
      ],
      "text/plain": [
       "      order_id  quantity                     item_name choice_description  \\\n",
       "3598      1443        15  Chips and Fresh Tomato Salsa                NaN   \n",
       "\n",
       "     item_price  item_price_float  \n",
       "3598    $44.25              44.25  "
      ]
     },
     "execution_count": 6,
     "metadata": {},
     "output_type": "execute_result"
    }
   ],
   "source": [
    "# Producto de mayor precio\n",
    "valor_maximo = df[\"item_price_float\"].max()\n",
    "condicion = (df[\"item_price_float\"]==valor_maximo)\n",
    "df[condicion]\n"
   ]
  },
  {
   "cell_type": "code",
   "execution_count": 7,
   "metadata": {},
   "outputs": [
    {
     "data": {
      "text/html": [
       "<div>\n",
       "<style scoped>\n",
       "    .dataframe tbody tr th:only-of-type {\n",
       "        vertical-align: middle;\n",
       "    }\n",
       "\n",
       "    .dataframe tbody tr th {\n",
       "        vertical-align: top;\n",
       "    }\n",
       "\n",
       "    .dataframe thead th {\n",
       "        text-align: right;\n",
       "    }\n",
       "</style>\n",
       "<table border=\"1\" class=\"dataframe\">\n",
       "  <thead>\n",
       "    <tr style=\"text-align: right;\">\n",
       "      <th></th>\n",
       "      <th>order_id</th>\n",
       "      <th>quantity</th>\n",
       "      <th>item_name</th>\n",
       "      <th>choice_description</th>\n",
       "      <th>item_price</th>\n",
       "      <th>item_price_float</th>\n",
       "    </tr>\n",
       "  </thead>\n",
       "  <tbody>\n",
       "    <tr>\n",
       "      <th>3598</th>\n",
       "      <td>1443</td>\n",
       "      <td>15</td>\n",
       "      <td>Chips and Fresh Tomato Salsa</td>\n",
       "      <td>NaN</td>\n",
       "      <td>$44.25</td>\n",
       "      <td>44.25</td>\n",
       "    </tr>\n",
       "  </tbody>\n",
       "</table>\n",
       "</div>"
      ],
      "text/plain": [
       "      order_id  quantity                     item_name choice_description  \\\n",
       "3598      1443        15  Chips and Fresh Tomato Salsa                NaN   \n",
       "\n",
       "     item_price  item_price_float  \n",
       "3598    $44.25              44.25  "
      ]
     },
     "execution_count": 7,
     "metadata": {},
     "output_type": "execute_result"
    }
   ],
   "source": [
    "# Otra forma: Producto de mayor precio\n",
    "df[df[\"item_price_float\"]==df[\"item_price_float\"].max()]"
   ]
  },
  {
   "cell_type": "code",
   "execution_count": 8,
   "metadata": {},
   "outputs": [
    {
     "name": "stdout",
     "output_type": "stream",
     "text": [
      "El nombre del producto con el mayor precio es: Chips and Fresh Tomato Salsa\n"
     ]
    }
   ],
   "source": [
    "# Con esta forma obtenemos solo el nombre del producto:\n",
    "nombre_producto_max = df.loc[df['item_price_float'].idxmax(), 'item_name']\n",
    "print(f\"El nombre del producto con el mayor precio es: {nombre_producto_max}\") "
   ]
  },
  {
   "attachments": {},
   "cell_type": "markdown",
   "metadata": {},
   "source": [
    "### Step 4. ¿Qué productos cuestan más de $10?"
   ]
  },
  {
   "cell_type": "code",
   "execution_count": 9,
   "metadata": {},
   "outputs": [
    {
     "name": "stdout",
     "output_type": "stream",
     "text": [
      "['Chicken Bowl' 'Steak Burrito' 'Chicken Burrito' 'Barbacoa Bowl'\n",
      " 'Veggie Burrito' 'Veggie Bowl' 'Chicken Soft Tacos' 'Steak Bowl'\n",
      " 'Carnitas Burrito' 'Carnitas Bowl' 'Barbacoa Burrito'\n",
      " 'Chicken Salad Bowl' 'Barbacoa Crispy Tacos' 'Veggie Salad Bowl'\n",
      " 'Chicken Crispy Tacos' 'Chicken Salad' 'Steak Salad Bowl' 'Bowl'\n",
      " 'Veggie Soft Tacos' 'Barbacoa Soft Tacos' 'Carnitas Crispy Tacos'\n",
      " 'Carnitas Salad Bowl' 'Barbacoa Salad Bowl'\n",
      " 'Chips and Fresh Tomato Salsa' 'Steak Soft Tacos' 'Carnitas Soft Tacos'\n",
      " 'Steak Crispy Tacos' 'Chips and Guacamole' '6 Pack Soft Drink'\n",
      " 'Bottled Water' 'Side of Chips']\n"
     ]
    }
   ],
   "source": [
    "# Creamos el subconjunto de los productos con precio > 10\n",
    "productos_mayores_10 = df[df[\"item_price_float\"]>10]  \n",
    "# Mostramos los nombres de esos productos (unique() para que no se repitan)\n",
    "print(productos_mayores_10['item_name'].unique()) "
   ]
  },
  {
   "attachments": {},
   "cell_type": "markdown",
   "metadata": {},
   "source": [
    "### Step 4.1: ¿Y cuántos pedidos se han hecho con un producto de más de 10$? ¿Es lo mismo?"
   ]
  },
  {
   "cell_type": "code",
   "execution_count": 10,
   "metadata": {},
   "outputs": [
    {
     "name": "stdout",
     "output_type": "stream",
     "text": [
      "      order_id           item_name  item_price_float\n",
      "4            2        Chicken Bowl             16.98\n",
      "5            3        Chicken Bowl             10.98\n",
      "7            4       Steak Burrito             11.75\n",
      "13           7        Chicken Bowl             11.25\n",
      "23          12     Chicken Burrito             10.98\n",
      "...        ...                 ...               ...\n",
      "4610      1830       Steak Burrito             11.75\n",
      "4611      1830      Veggie Burrito             11.25\n",
      "4617      1833       Steak Burrito             11.75\n",
      "4618      1833       Steak Burrito             11.75\n",
      "4619      1834  Chicken Salad Bowl             11.25\n",
      "\n",
      "[1130 rows x 3 columns]\n",
      "Pedidos con al menos un producto con precio > 10: 863\n"
     ]
    }
   ],
   "source": [
    "# En este caso, se filtra de acuerdo a los pedidos y si hay al menos, un producto con precio > 10, en dichos pedidos\n",
    "# Subconjunto de los productos con precio > 10\n",
    "productos_mayores_10 = df[df['item_price_float'] > 10]\n",
    "\n",
    "# Obtenemos los ids únicos de los pedidos en ese subconjunto\n",
    "pedidos_filtrado = productos_mayores_10['order_id'].nunique()\n",
    "\n",
    "print(productos_mayores_10[['order_id',\"item_name\",\"item_price_float\"]])\n",
    "\n",
    "print(f\"Pedidos con al menos un producto con precio > 10: {pedidos_filtrado}\")"
   ]
  },
  {
   "cell_type": "markdown",
   "metadata": {},
   "source": [
    "### Step 4.2: ¿Y cuántos pedidos se han hecho de más de 10$? ¿Es lo mismo?"
   ]
  },
  {
   "cell_type": "code",
   "execution_count": 11,
   "metadata": {},
   "outputs": [
    {
     "name": "stdout",
     "output_type": "stream",
     "text": [
      "(2) Pedidos cuyo total supera los 10 USD: 1834\n"
     ]
    }
   ],
   "source": [
    "# En este caso, se filtra de acuerdo a los pedidos y si en total el pedido es de más de $10 \n",
    "# sumando todos los productos del pedido\n",
    "\n",
    "# Agregamos una columna con el total por fila\n",
    "df['subtotal'] = df['quantity'] * df['item_price_float']\n",
    "\n",
    "# Agrupamos por pedido y sumamos el total\n",
    "totales_por_pedido = df.groupby('order_id')['subtotal'].sum()\n",
    "\n",
    "# Contamos cuántos pedidos superan $10\n",
    "pedidos_mayores_10 = (totales_por_pedido > 10).sum()\n",
    "\n",
    "print(f\"(2) Pedidos cuyo total supera los 10 USD: {pedidos_mayores_10}\")"
   ]
  },
  {
   "cell_type": "markdown",
   "metadata": {},
   "source": [
    "### Step 4.3: ¿Y en cuántos pedidos se ha pagado más de 10$ por un mismo producto? ¿Es lo mismo?"
   ]
  },
  {
   "cell_type": "code",
   "execution_count": 12,
   "metadata": {},
   "outputs": [
    {
     "name": "stdout",
     "output_type": "stream",
     "text": [
      "(3) Pedidos donde se pagó > $10 por un mismo producto: 889\n"
     ]
    }
   ],
   "source": [
    "# Ya tenemos la columna 'subtotal' creada\n",
    "pagos_producto_mayores_10 = df[df['subtotal'] > 10]\n",
    "\n",
    "# Contar pedidos únicos\n",
    "pedidos_producto_mayor_10 = pagos_producto_mayores_10['order_id'].nunique()\n",
    "\n",
    "print(f\"(3) Pedidos donde se pagó > $10 por un mismo producto: {pedidos_producto_mayor_10}\")\n"
   ]
  },
  {
   "attachments": {},
   "cell_type": "markdown",
   "metadata": {},
   "source": [
    "### Step 5. ¿Qué precio tiene cada producto en distintos pedidos? ¿Hay productos con varios precios?"
   ]
  },
  {
   "cell_type": "code",
   "execution_count": 13,
   "metadata": {},
   "outputs": [
    {
     "name": "stdout",
     "output_type": "stream",
     "text": [
      "Precios distintos por producto en distintos pedidos:\n",
      "\n",
      "item_name\n",
      "6 Pack Soft Drink                                                            [6.49, 12.98]\n",
      "Barbacoa Bowl                                      [11.75, 9.25, 8.99, 11.48, 8.69, 11.49]\n",
      "Barbacoa Burrito                                   [8.99, 9.25, 11.75, 11.08, 8.69, 11.48]\n",
      "Barbacoa Crispy Tacos                                     [11.75, 9.25, 11.48, 8.99, 18.5]\n",
      "Barbacoa Salad Bowl                                                          [11.89, 9.39]\n",
      "Barbacoa Soft Tacos                                             [9.25, 8.99, 11.75, 11.48]\n",
      "Bottled Water                            [1.09, 1.5, 3.0, 3.27, 2.18, 6.0, 7.5, 4.5, 10...\n",
      "Bowl                                                                           [22.2, 7.4]\n",
      "Burrito                                                                              [7.4]\n",
      "Canned Soda                                                             [2.18, 1.09, 4.36]\n",
      "Canned Soft Drink                                                   [1.25, 2.5, 3.75, 5.0]\n",
      "Carnitas Bowl                               [8.99, 11.75, 9.25, 11.48, 23.5, 11.08, 35.25]\n",
      "Carnitas Burrito                             [8.99, 9.25, 11.75, 11.48, 18.5, 11.08, 8.69]\n",
      "Carnitas Crispy Tacos                                           [9.25, 11.75, 8.99, 17.98]\n",
      "Carnitas Salad                                                                      [8.99]\n",
      "Carnitas Salad Bowl                                                          [11.89, 9.39]\n",
      "Carnitas Soft Tacos                                                    [9.25, 8.99, 11.75]\n",
      "Chicken Bowl                             [16.98, 10.98, 11.25, 8.75, 8.49, 17.5, 32.94,...\n",
      "Chicken Burrito                          [8.49, 10.98, 8.75, 17.5, 11.25, 10.58, 8.19, ...\n",
      "Chicken Crispy Tacos                               [8.75, 17.5, 11.25, 8.49, 10.98, 16.98]\n",
      "Chicken Salad                                                          [10.98, 8.49, 8.19]\n",
      "Chicken Salad Bowl                                               [8.75, 22.5, 17.5, 11.25]\n",
      "Chicken Soft Tacos                          [8.75, 11.25, 8.49, 17.5, 10.98, 16.98, 21.96]\n",
      "Chips                                                              [2.15, 4.3, 6.45, 1.99]\n",
      "Chips and Fresh Tomato Salsa                          [2.39, 2.95, 2.29, 11.8, 5.9, 44.25]\n",
      "Chips and Guacamole                      [4.45, 3.99, 4.0, 8.9, 3.89, 13.35, 7.98, 8.5,...\n",
      "Chips and Mild Fresh Tomato Salsa                                                    [3.0]\n",
      "Chips and Roasted Chili Corn Salsa                                             [2.95, 5.9]\n",
      "Chips and Roasted Chili-Corn Salsa                                                  [2.39]\n",
      "Chips and Tomatillo Green Chili Salsa                                          [2.95, 5.9]\n",
      "Chips and Tomatillo Red Chili Salsa                                            [2.95, 5.9]\n",
      "Chips and Tomatillo-Green Chili Salsa                                         [2.39, 4.78]\n",
      "Chips and Tomatillo-Red Chili Salsa                                     [2.39, 4.78, 7.17]\n",
      "Crispy Tacos                                                                         [7.4]\n",
      "Izze                                                                                [3.39]\n",
      "Nantucket Nectar                                                              [3.39, 6.78]\n",
      "Salad                                                                                [7.4]\n",
      "Side of Chips                                                          [1.69, 5.07, 13.52]\n",
      "Steak Bowl                               [8.99, 11.75, 11.48, 9.25, 11.08, 17.98, 8.69,...\n",
      "Steak Burrito                            [11.75, 9.25, 8.99, 11.48, 17.98, 11.08, 22.16...\n",
      "Steak Crispy Tacos                                        [9.25, 8.99, 8.69, 11.75, 17.98]\n",
      "Steak Salad                                                                   [8.99, 8.69]\n",
      "Steak Salad Bowl                                                      [23.78, 11.89, 9.39]\n",
      "Steak Soft Tacos                                          [9.25, 8.99, 11.75, 11.48, 18.5]\n",
      "Veggie Bowl                                              [11.25, 8.49, 8.75, 16.98, 10.98]\n",
      "Veggie Burrito                                           [11.25, 8.49, 10.98, 8.75, 33.75]\n",
      "Veggie Crispy Tacos                                                                 [8.49]\n",
      "Veggie Salad                                                                        [8.49]\n",
      "Veggie Salad Bowl                                                            [11.25, 8.75]\n",
      "Veggie Soft Tacos                                               [11.25, 8.75, 8.49, 16.98]\n",
      "Name: item_price_float, dtype: object\n"
     ]
    }
   ],
   "source": [
    "precios_por_producto = df.groupby('item_name')['item_price_float'].unique()\n",
    "\n",
    "print(\"Precios distintos por producto en distintos pedidos:\\n\")\n",
    "print(precios_por_producto)"
   ]
  },
  {
   "cell_type": "code",
   "execution_count": 14,
   "metadata": {},
   "outputs": [
    {
     "name": "stdout",
     "output_type": "stream",
     "text": [
      "Productos con múltiples precios:\n",
      "\n",
      "item_name\n",
      "6 Pack Soft Drink                         2\n",
      "Barbacoa Bowl                             6\n",
      "Barbacoa Burrito                          6\n",
      "Barbacoa Crispy Tacos                     5\n",
      "Barbacoa Salad Bowl                       2\n",
      "Barbacoa Soft Tacos                       4\n",
      "Bottled Water                            10\n",
      "Bowl                                      2\n",
      "Canned Soda                               3\n",
      "Canned Soft Drink                         4\n",
      "Carnitas Bowl                             7\n",
      "Carnitas Burrito                          7\n",
      "Carnitas Crispy Tacos                     4\n",
      "Carnitas Salad Bowl                       2\n",
      "Carnitas Soft Tacos                       3\n",
      "Chicken Bowl                             13\n",
      "Chicken Burrito                          12\n",
      "Chicken Crispy Tacos                      6\n",
      "Chicken Salad                             3\n",
      "Chicken Salad Bowl                        4\n",
      "Chicken Soft Tacos                        7\n",
      "Chips                                     4\n",
      "Chips and Fresh Tomato Salsa              6\n",
      "Chips and Guacamole                       9\n",
      "Chips and Roasted Chili Corn Salsa        2\n",
      "Chips and Tomatillo Green Chili Salsa     2\n",
      "Chips and Tomatillo Red Chili Salsa       2\n",
      "Chips and Tomatillo-Green Chili Salsa     2\n",
      "Chips and Tomatillo-Red Chili Salsa       3\n",
      "Nantucket Nectar                          2\n",
      "Side of Chips                             3\n",
      "Steak Bowl                               10\n",
      "Steak Burrito                            12\n",
      "Steak Crispy Tacos                        5\n",
      "Steak Salad                               2\n",
      "Steak Salad Bowl                          3\n",
      "Steak Soft Tacos                          5\n",
      "Veggie Bowl                               5\n",
      "Veggie Burrito                            5\n",
      "Veggie Salad Bowl                         2\n",
      "Veggie Soft Tacos                         4\n",
      "Name: item_price_float, dtype: int64\n"
     ]
    }
   ],
   "source": [
    "# Hay productos con precios distintos en distintos pedidos\n",
    "\n",
    "# Número de precios distintos por producto\n",
    "conteo_distintos = df.groupby('item_name')['item_price_float'].nunique()\n",
    "\n",
    "# Filtrar los productos que tienen más de un precio\n",
    "productos_con_precios_variados = conteo_distintos[conteo_distintos > 1]\n",
    "\n",
    "print(\"Productos con múltiples precios:\\n\")\n",
    "print(productos_con_precios_variados)"
   ]
  },
  {
   "attachments": {},
   "cell_type": "markdown",
   "metadata": {},
   "source": [
    "### Step 6. Ordena el dataframe en base al nombre de producto (item name)"
   ]
  },
  {
   "cell_type": "code",
   "execution_count": 15,
   "metadata": {},
   "outputs": [
    {
     "data": {
      "text/html": [
       "<div>\n",
       "<style scoped>\n",
       "    .dataframe tbody tr th:only-of-type {\n",
       "        vertical-align: middle;\n",
       "    }\n",
       "\n",
       "    .dataframe tbody tr th {\n",
       "        vertical-align: top;\n",
       "    }\n",
       "\n",
       "    .dataframe thead th {\n",
       "        text-align: right;\n",
       "    }\n",
       "</style>\n",
       "<table border=\"1\" class=\"dataframe\">\n",
       "  <thead>\n",
       "    <tr style=\"text-align: right;\">\n",
       "      <th></th>\n",
       "      <th>order_id</th>\n",
       "      <th>quantity</th>\n",
       "      <th>item_name</th>\n",
       "      <th>choice_description</th>\n",
       "      <th>item_price</th>\n",
       "      <th>item_price_float</th>\n",
       "      <th>subtotal</th>\n",
       "    </tr>\n",
       "  </thead>\n",
       "  <tbody>\n",
       "    <tr>\n",
       "      <th>3389</th>\n",
       "      <td>1360</td>\n",
       "      <td>2</td>\n",
       "      <td>6 Pack Soft Drink</td>\n",
       "      <td>[Diet Coke]</td>\n",
       "      <td>$12.98</td>\n",
       "      <td>12.98</td>\n",
       "      <td>25.96</td>\n",
       "    </tr>\n",
       "    <tr>\n",
       "      <th>341</th>\n",
       "      <td>148</td>\n",
       "      <td>1</td>\n",
       "      <td>6 Pack Soft Drink</td>\n",
       "      <td>[Diet Coke]</td>\n",
       "      <td>$6.49</td>\n",
       "      <td>6.49</td>\n",
       "      <td>6.49</td>\n",
       "    </tr>\n",
       "    <tr>\n",
       "      <th>1849</th>\n",
       "      <td>749</td>\n",
       "      <td>1</td>\n",
       "      <td>6 Pack Soft Drink</td>\n",
       "      <td>[Coke]</td>\n",
       "      <td>$6.49</td>\n",
       "      <td>6.49</td>\n",
       "      <td>6.49</td>\n",
       "    </tr>\n",
       "    <tr>\n",
       "      <th>1860</th>\n",
       "      <td>754</td>\n",
       "      <td>1</td>\n",
       "      <td>6 Pack Soft Drink</td>\n",
       "      <td>[Diet Coke]</td>\n",
       "      <td>$6.49</td>\n",
       "      <td>6.49</td>\n",
       "      <td>6.49</td>\n",
       "    </tr>\n",
       "    <tr>\n",
       "      <th>2713</th>\n",
       "      <td>1076</td>\n",
       "      <td>1</td>\n",
       "      <td>6 Pack Soft Drink</td>\n",
       "      <td>[Coke]</td>\n",
       "      <td>$6.49</td>\n",
       "      <td>6.49</td>\n",
       "      <td>6.49</td>\n",
       "    </tr>\n",
       "  </tbody>\n",
       "</table>\n",
       "</div>"
      ],
      "text/plain": [
       "      order_id  quantity          item_name choice_description item_price  \\\n",
       "3389      1360         2  6 Pack Soft Drink        [Diet Coke]    $12.98    \n",
       "341        148         1  6 Pack Soft Drink        [Diet Coke]     $6.49    \n",
       "1849       749         1  6 Pack Soft Drink             [Coke]     $6.49    \n",
       "1860       754         1  6 Pack Soft Drink        [Diet Coke]     $6.49    \n",
       "2713      1076         1  6 Pack Soft Drink             [Coke]     $6.49    \n",
       "\n",
       "      item_price_float  subtotal  \n",
       "3389             12.98     25.96  \n",
       "341               6.49      6.49  \n",
       "1849              6.49      6.49  \n",
       "1860              6.49      6.49  \n",
       "2713              6.49      6.49  "
      ]
     },
     "execution_count": 15,
     "metadata": {},
     "output_type": "execute_result"
    }
   ],
   "source": [
    "ordenar_por_nombre_producto = df.sort_values('item_name', ascending=True) \n",
    "\n",
    "ordenar_por_nombre_producto.head()"
   ]
  },
  {
   "attachments": {},
   "cell_type": "markdown",
   "metadata": {},
   "source": [
    "### Step 7. ¿Cuantas veces se ha pedido los productos más caros?"
   ]
  },
  {
   "cell_type": "code",
   "execution_count": 16,
   "metadata": {},
   "outputs": [
    {
     "name": "stdout",
     "output_type": "stream",
     "text": [
      "      order_id  quantity                     item_name choice_description  \\\n",
      "3598      1443        15  Chips and Fresh Tomato Salsa                NaN   \n",
      "\n",
      "     item_price  item_price_float  subtotal  \n",
      "3598    $44.25              44.25    663.75  \n",
      "El producto más costoso se han pedido 15 veces.\n"
     ]
    }
   ],
   "source": [
    "# Encontramos el precio máximo\n",
    "max_precio = df['item_price_float'].max()\n",
    "\n",
    "# Filtramos para obtener las filas con el precio máximo (aquí se podría pensar en usar un rango con límite el máximo)\n",
    "\n",
    "producto_mas_costoso = df[df['item_price_float'] == max_precio]\n",
    "print(producto_mas_costoso)\n",
    "\n",
    "# Calcular la cantidad total de los productos más costosos pedidos\n",
    "total = producto_mas_costoso['quantity'].sum()\n",
    "\n",
    "total\n",
    "print(f\"El producto más costoso se han pedido {total} veces.\")\n",
    "\n"
   ]
  },
  {
   "cell_type": "code",
   "execution_count": 17,
   "metadata": {},
   "outputs": [
    {
     "name": "stdout",
     "output_type": "stream",
     "text": [
      "      order_id  quantity                     item_name  \\\n",
      "409        178         3                  Chicken Bowl   \n",
      "1254       511         4               Chicken Burrito   \n",
      "3480      1398         3                 Carnitas Bowl   \n",
      "3598      1443        15  Chips and Fresh Tomato Salsa   \n",
      "3601      1443         3                Veggie Burrito   \n",
      "3602      1443         4               Chicken Burrito   \n",
      "\n",
      "                                     choice_description item_price  \\\n",
      "409   [[Fresh Tomato Salsa (Mild), Tomatillo-Green C...    $32.94    \n",
      "1254  [Fresh Tomato Salsa, [Fajita Vegetables, Rice,...    $35.00    \n",
      "3480  [Roasted Chili Corn Salsa, [Fajita Vegetables,...    $35.25    \n",
      "3598                                                NaN    $44.25    \n",
      "3601  [Fresh Tomato Salsa, [Fajita Vegetables, Rice,...    $33.75    \n",
      "3602  [Fresh Tomato Salsa, [Rice, Black Beans, Chees...    $35.00    \n",
      "\n",
      "      item_price_float  subtotal  \n",
      "409              32.94     98.82  \n",
      "1254             35.00    140.00  \n",
      "3480             35.25    105.75  \n",
      "3598             44.25    663.75  \n",
      "3601             33.75    101.25  \n",
      "3602             35.00    140.00  \n",
      "............................................\n",
      "Los productos mas costosos se han pedido 32 veces.\n"
     ]
    }
   ],
   "source": [
    "# Conseguimos el mayor\n",
    "max_precio = df['item_price_float'].max()\n",
    "# Ordenamos de mayor a menor\n",
    "precios_ordenados = df['item_price_float'].sort_values(ascending=False)\n",
    "\n",
    "# Filtramos para obtener un subconjunto de productos que tienen el precio máximo \n",
    "# o $15 por debajo de ese precio máx\n",
    "productos_mas_costosos = producto_mas_costoso = df[df['item_price_float'] >= (max_precio-15.0)]\n",
    "\n",
    "print(productos_mas_costosos)\n",
    "\n",
    "print(\"............................................\")\n",
    "\n",
    "# Sumamos la cantidad de veces que se han pedido\n",
    "total = sum(productos_mas_costosos['quantity'])\n",
    "print(f\"Los productos mas costosos se han pedido {total} veces.\")\n",
    "\n"
   ]
  },
  {
   "attachments": {},
   "cell_type": "markdown",
   "metadata": {},
   "source": [
    "### Step 8. Veamos para el caso de Veggie Salad Bowl. Extrae esa información."
   ]
  },
  {
   "cell_type": "code",
   "execution_count": 18,
   "metadata": {},
   "outputs": [
    {
     "name": "stdout",
     "output_type": "stream",
     "text": [
      "El producto Veggie Salad Bowl se ha pedido 18 veces.\n"
     ]
    }
   ],
   "source": [
    "df_Veggie_Salad_Bowl = df[df['item_name'] == 'Veggie Salad Bowl']\n",
    "#print(df_Veggie_Salad_Bowl)\n",
    "\n",
    "total = df_Veggie_Salad_Bowl['quantity'].sum()\n",
    "\n",
    "print(f\"El producto Veggie Salad Bowl se ha pedido {total} veces.\")\n"
   ]
  }
 ],
 "metadata": {
  "anaconda-cloud": {},
  "kernelspec": {
   "display_name": "Python 3",
   "language": "python",
   "name": "python3"
  },
  "language_info": {
   "codemirror_mode": {
    "name": "ipython",
    "version": 3
   },
   "file_extension": ".py",
   "mimetype": "text/x-python",
   "name": "python",
   "nbconvert_exporter": "python",
   "pygments_lexer": "ipython3",
   "version": "3.12.9"
  }
 },
 "nbformat": 4,
 "nbformat_minor": 4
}
